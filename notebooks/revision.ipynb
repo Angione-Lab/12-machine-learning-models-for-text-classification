{
 "cells": [
  {
   "cell_type": "markdown",
   "source": [
    "# User Input\n",
    "Please select the following options to for the notebook to process, please run the cell below to render the widgets."
   ],
   "metadata": {
    "collapsed": false,
    "pycharm": {
     "name": "#%% md\n"
    }
   }
  },
  {
   "cell_type": "code",
   "execution_count": 86,
   "metadata": {
    "collapsed": true,
    "pycharm": {
     "name": "#%%\n"
    }
   },
   "outputs": [
    {
     "data": {
      "text/plain": "GridspecLayout(children=(Label(value='Preprocessing and Feature Extraction Stage:', layout=Layout(grid_area='w…",
      "application/vnd.jupyter.widget-view+json": {
       "version_major": 2,
       "version_minor": 0,
       "model_id": "bf17291cbb234645aaa982bf5f2b1d1d"
      }
     },
     "metadata": {},
     "output_type": "display_data"
    }
   ],
   "source": [
    "from ipywidgets import widgets, GridspecLayout\n",
    "\n",
    "defined_widgets = []\n",
    "\n",
    "preprocess_label = widgets.Label('Preprocessing and Feature Extraction Stage:')\n",
    "defined_widgets.append(preprocess_label)\n",
    "\n",
    "feature_size = widgets.IntSlider(\n",
    "    value=200,\n",
    "    min=50,\n",
    "    max=1000,\n",
    "    description='Feature size'\n",
    ")\n",
    "defined_widgets.append(feature_size)\n",
    "\n",
    "show_logs = widgets.Checkbox(\n",
    "    value=False,\n",
    "    description='Show logs during process',\n",
    ")\n",
    "defined_widgets.append(show_logs)\n",
    "\n",
    "include_common_artifacts = widgets.Checkbox(\n",
    "    value=False,\n",
    "    description='Include common artifacts',\n",
    ")\n",
    "defined_widgets.append(include_common_artifacts)\n",
    "\n",
    "reprocess_saved_feature_set = widgets.Checkbox(\n",
    "    value=False,\n",
    "    description='Reprocess Feature Set',\n",
    ")\n",
    "defined_widgets.append(reprocess_saved_feature_set)\n",
    "\n",
    "grid = GridspecLayout(len(defined_widgets), 1)\n",
    "\n",
    "for i in range(len(defined_widgets)):\n",
    "    grid[i, 0] = defined_widgets[i]\n",
    "grid\n"
   ]
  }
 ],
 "metadata": {
  "kernelspec": {
   "display_name": "Python 3",
   "language": "python",
   "name": "python3"
  },
  "language_info": {
   "codemirror_mode": {
    "name": "ipython",
    "version": 2
   },
   "file_extension": ".py",
   "mimetype": "text/x-python",
   "name": "python",
   "nbconvert_exporter": "python",
   "pygments_lexer": "ipython2",
   "version": "2.7.6"
  }
 },
 "nbformat": 4,
 "nbformat_minor": 0
}