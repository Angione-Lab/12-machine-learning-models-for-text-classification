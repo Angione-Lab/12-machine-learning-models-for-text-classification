{
 "cells": [
  {
   "cell_type": "markdown",
   "source": [
    "## Library imports\n",
    "Import all the library's required for this notebook."
   ],
   "metadata": {
    "collapsed": false
   }
  },
  {
   "cell_type": "code",
   "execution_count": 4,
   "outputs": [],
   "source": [
    "import os\n",
    "import os.path\n",
    "from collections import Counter\n",
    "from datetime import datetime\n",
    "\n",
    "import matplotlib.pyplot as plt\n",
    "import numpy as np\n",
    "import pandas as pd\n",
    "import shap\n",
    "from IPython.core.display import display\n",
    "from nltk import word_tokenize, WordNetLemmatizer\n",
    "from nltk.corpus import stopwords\n",
    "from sklearn import svm\n",
    "from sklearn.ensemble import RandomForestClassifier\n",
    "from sklearn.linear_model import LogisticRegression\n",
    "from sklearn.metrics import roc_curve, auc\n",
    "from sklearn.model_selection import cross_validate, StratifiedKFold, train_test_split\n",
    "from sklearn.naive_bayes import MultinomialNB, GaussianNB, BernoulliNB\n",
    "from sklearn.neighbors import KNeighborsClassifier\n",
    "from sklearn.neural_network import MLPClassifier\n",
    "from sklearn.preprocessing import MinMaxScaler\n",
    "from xgboost import XGBClassifier\n"
   ],
   "metadata": {
    "collapsed": false,
    "pycharm": {
     "name": "#%%\n"
    }
   }
  },
  {
   "cell_type": "markdown",
   "source": [
    "## Check Python Version\n",
    "Check Your Python version before running this notebook.\n",
    "- Python 3.6.X is required to run this notebook."
   ],
   "metadata": {
    "collapsed": false,
    "pycharm": {
     "name": "#%% md\n"
    }
   }
  },
  {
   "cell_type": "code",
   "execution_count": 5,
   "outputs": [
    {
     "name": "stdout",
     "output_type": "stream",
     "text": [
      "Please use Python version 3.6.x\n"
     ]
    }
   ],
   "source": [
    "import re\n",
    "import sys\n",
    "\n",
    "\n",
    "class PythonVersionException(Exception):\n",
    "    print('Please use Python version 3.6.x')\n",
    "    pass;\n",
    "\n",
    "\n",
    "if re.match('3.6*', sys.version.split('(')[0]) is None:\n",
    "    raise PythonVersionException\n"
   ],
   "metadata": {
    "collapsed": false,
    "pycharm": {
     "name": "#%%\n"
    }
   }
  },
  {
   "cell_type": "markdown",
   "source": [
    "## NLTK Corpus Sets\n",
    "Run this section to check if the following corpus datasets have been downloaded, if they are missing this will download\n",
    "them for you."
   ],
   "metadata": {
    "collapsed": false
   }
  },
  {
   "cell_type": "code",
   "execution_count": 6,
   "outputs": [],
   "source": [
    "import nltk\n",
    "\n",
    "nltkDataDir = '../data/nltk_data'\n",
    "\n",
    "nltk.data.path.append(os.path.abspath(nltkDataDir))\n",
    "\n",
    "try:\n",
    "    stopwords.words('english')\n",
    "except(LookupError, OSError) as e:\n",
    "    nltk.download('stopwords', nltkDataDir)\n",
    "\n",
    "try:\n",
    "    WordNetLemmatizer().lemmatize(\"testing\")\n",
    "except(LookupError, OSError) as e:\n",
    "    nltk.download('punkt', nltkDataDir)\n",
    "    nltk.download('wordnet', nltkDataDir)\n"
   ],
   "metadata": {
    "collapsed": false,
    "pycharm": {
     "name": "#%%\n"
    }
   }
  },
  {
   "cell_type": "code",
   "execution_count": 11,
   "outputs": [],
   "source": [
    "stoplist = stopwords.words('english')\n",
    "remove_common_artifacts = False\n",
    "verbose_logs = False\n",
    "\n",
    "dictionary = []\n",
    "formatted_dictionary = []\n",
    "selected_set = None\n",
    "\n",
    "train_features = []\n",
    "train_labels = []\n",
    "\n",
    "train_dev_features = []\n",
    "train_dev_labels = []\n",
    "\n",
    "test_features = []\n",
    "test_labels = []\n",
    "\n",
    "all_features = []\n",
    "all_labels = []\n",
    "\n",
    "all_features_scaled = 0\n",
    "train_features_scaled = 0\n",
    "train_dev_features_scaled = 0\n",
    "test_features_scaled = 0\n",
    "\n",
    "max_iterations = 10000\n",
    "\n",
    "kn_classifier = KNeighborsClassifier(algorithm='brute')\n",
    "mpnn_classifier = MLPClassifier(hidden_layer_sizes=50, solver='lbfgs', max_iter=5000)\n",
    "lr_classifier = LogisticRegression(solver='lbfgs', max_iter=max_iterations)\n",
    "rf_classifier = RandomForestClassifier(n_estimators=50, max_depth=None, min_samples_split=2, random_state=0)\n",
    "xgboost = XGBClassifier()\n",
    "mnb_classifier = MultinomialNB()\n",
    "gnb_classifier = GaussianNB()\n",
    "bnb_classifier = BernoulliNB()\n",
    "linear_svc = svm.SVC(C=1.0, kernel='linear', degree=3, gamma='auto', shrinking=True, probability=True,\n",
    "                     tol=0.001, cache_size=1000, max_iter=max_iterations, decision_function_shape='ovr')\n",
    "\n",
    "models = [kn_classifier,\n",
    "          mpnn_classifier,\n",
    "          lr_classifier,\n",
    "          rf_classifier,\n",
    "          xgboost,\n",
    "          mnb_classifier,\n",
    "          gnb_classifier,\n",
    "          bnb_classifier,\n",
    "          linear_svc,\n",
    "          ]\n",
    "\n",
    "cv = StratifiedKFold(n_splits=5, shuffle=False, random_state=None)\n",
    "\n",
    "scores = []\n",
    "scoring = ['precision_macro', 'recall_macro', 'f1']\n",
    "scoring_parse_labels = ['fit_time', 'score_time', 'test_precision_macro', 'test_recall_macro', 'test_f1']\n",
    "report_labels = ['model_name', 'fit_time', 'score_time', 'test_precision_macro', 'test_recall_macro', 'test_f1']\n",
    "\n",
    "\n",
    "def enron_selector(enable_preprocess, save_files):  # function to identify platform and selected dataset to be applied.\n",
    "    print('Loading enron corpus')\n",
    "\n",
    "    def init_lists(folder_collection, label):  # function to retrieve and apply email content to array.\n",
    "        a_list = []\n",
    "        doc_id = 0\n",
    "        file_list = []\n",
    "        label = \"Loading \" + label + \"...\"\n",
    "        for entry in folder_collection:\n",
    "            b_list = os.listdir(entry)\n",
    "            for item in b_list:\n",
    "                file_list.append(entry + item)\n",
    "        for a_file in file_list:\n",
    "            f = open(a_file, 'r')\n",
    "            if verbose_logs:\n",
    "                process_status(doc_id, file_list, label)\n",
    "            try:\n",
    "                a_list.append(f.read())\n",
    "            except UnicodeDecodeError:\n",
    "                pass\n",
    "            doc_id += 1\n",
    "        f.close()\n",
    "        return a_list\n",
    "\n",
    "    enron_ = ['Enron1/', 'Enron2/', 'Enron3/', 'Enron4/', 'Enron5/', 'Enron6/']\n",
    "    spam = []\n",
    "    ham = []\n",
    "\n",
    "    for i, sub in enumerate(enron_):\n",
    "        spam.append('../data/enron_dataset/Enron/Processed/' + enron_[i] + 'spam/')\n",
    "        ham.append('../data/enron_dataset/Enron/Processed/' + enron_[i] + 'ham/')\n",
    "\n",
    "    spam = init_lists(spam, \"spam\")\n",
    "    ham = init_lists(ham, \"ham\")\n",
    "\n",
    "    if enable_preprocess:\n",
    "        all_emails = [(email, 'spam') for email in spam]\n",
    "        all_emails += [(email, 'ham') for email in ham]\n",
    "        ham_emails, spam_emails = preprocess(all_emails)\n",
    "    else:\n",
    "        ham_emails = [(email, 'ham') for email in ham]\n",
    "        spam_emails = [(email, 'spam') for email in spam]\n",
    "\n",
    "    if save_files:\n",
    "        if remove_common_artifacts:\n",
    "            ham_file, spam_file = \"../data/processed_ham_remove_common_artifacts.txt\", \"../data/processed_spam_remove_common_artifacts.txt\"\n",
    "        else:\n",
    "            ham_file, spam_file = \"../data/processed_ham.txt\", \"../data/processed_spam.txt\"\n",
    "\n",
    "        print(\"Writing ham file...\")\n",
    "        with open(ham_file, 'w') as fp:\n",
    "            fp.write('\\n'.join('{} {};'.format(x[0], x[1]) for x in ham_emails))\n",
    "        print(\"Writing spam file...\")\n",
    "        with open(spam_file, 'w') as fp:\n",
    "            fp.write('\\n'.join('{} {};'.format(x[0], x[1]) for x in spam_emails))\n",
    "    return ham_emails, spam_emails\n",
    "\n",
    "\n",
    "def html_list():\n",
    "    html_tag_list = []\n",
    "    location = '../data/html_tag_list.txt'\n",
    "    f = open(location, 'r')\n",
    "    for i in f:\n",
    "        html_tag_list.append(i.strip())\n",
    "    f.close()\n",
    "    return html_tag_list\n",
    "\n",
    "\n",
    "def preprocess(collection):  # function to apply pre-processing: stop words, lemmatise.\n",
    "    lemmatizer = WordNetLemmatizer()\n",
    "    print('Pre-processing emails...')\n",
    "    entry_id = 0\n",
    "    doc_id = 0\n",
    "    processed = []\n",
    "    html_tags = [html_list()]\n",
    "    common_artifacts = ['enron', 'subject', 'mail', 'cc', '``', 'email', '\\n', 'www', 'com', '\\nsubject']\n",
    "    for entry in collection:\n",
    "        if verbose_logs:\n",
    "            process_status(doc_id, collection, 'Pre-processing emails...')\n",
    "        for i, line in enumerate(entry):\n",
    "            emails = ''\n",
    "            if i == 0:\n",
    "                for word in word_tokenize(line):\n",
    "                    item = lemmatizer.lemmatize(word.lower())\n",
    "                    if not item in stoplist:\n",
    "                        if word.isalnum() == False or word in html_tags:\n",
    "                            pass\n",
    "                        elif remove_common_artifacts == True and item in common_artifacts:\n",
    "                            pass\n",
    "                        else:\n",
    "                            emails = emails + item + ','\n",
    "                processed.append(tuple((emails, entry[1])))\n",
    "                del emails\n",
    "                entry_id += 1\n",
    "        doc_id += 1\n",
    "    email_list = []\n",
    "    ham = []\n",
    "    spam = []\n",
    "    for entry in processed:\n",
    "        if entry[1] == 'ham':\n",
    "            email_list.append(entry)\n",
    "            ham.append(entry)\n",
    "    for entry in processed:\n",
    "        if entry[1] == 'spam':\n",
    "            email_list.append(entry)\n",
    "            spam.append(entry)\n",
    "    return ham, spam\n",
    "\n",
    "\n",
    "def dictionary_build(all_emails, preprocess):\n",
    "    print(\"Building Dictionary...\")\n",
    "\n",
    "    html_tags = [html_list()]\n",
    "    common_artifacts = ['enron', 'subject', 'mail', 'cc', '``', 'email', '\\n', 'www', 'com', '\\nsubject']\n",
    "    all_words = []\n",
    "    for entry in all_emails:\n",
    "        for sentence in entry:\n",
    "            if not sentence == 'ham' or sentence == 'spam':\n",
    "                words = str(sentence).split(',')\n",
    "                for word in words:\n",
    "                    all_words.append(word)\n",
    "    dict = Counter(all_words)\n",
    "    if preprocess:\n",
    "        list_to_remove = list(dict)\n",
    "        for item in list_to_remove:\n",
    "            if len(item) <= 1:\n",
    "                del dict[item]\n",
    "            elif item in html_tags:\n",
    "                del dict[item]\n",
    "            elif str(item).isdigit():\n",
    "                del dict[item]\n",
    "            elif remove_common_artifacts == True and item in common_artifacts:\n",
    "                del dict[item]\n",
    "\n",
    "    return dict\n",
    "\n",
    "\n",
    "# function to extract features to matrix based on calculating occurrence of words based\n",
    "def extract_features(data, label):\n",
    "    # on dictionary.\n",
    "    features_matrix = np.zeros((len(data), len(dictionary)))\n",
    "    print('Feature extraction \\'' + label + '\\':')\n",
    "    doc_id = 0\n",
    "    all_words = []\n",
    "    for entry in data:\n",
    "        if verbose_logs:\n",
    "            process_status(doc_id, data, label)\n",
    "        for i, line in enumerate(entry):\n",
    "            if i == 0:\n",
    "                # print('[' + str(doc_id) + '] ', entry)\n",
    "                words = line.split(',')\n",
    "                for word in words:\n",
    "                    all_words.append(words)\n",
    "                    for j, d in enumerate(dictionary):\n",
    "                        if d[0] == word:\n",
    "                            word_id = j\n",
    "                            features_matrix[doc_id, word_id] = words.count(word)\n",
    "        doc_id = doc_id + 1\n",
    "    return features_matrix\n",
    "\n",
    "\n",
    "def calculate(ham, spam):\n",
    "    main_proportion = 0.8\n",
    "    ham_size = int(len(ham) * main_proportion)\n",
    "    ham_train, ham_test = ham[:ham_size], ham[ham_size:]\n",
    "    spam_size = int(len(spam) * main_proportion)\n",
    "    spam_train, spam_test = spam[:spam_size], spam[spam_size:]\n",
    "    ham_train_size, spam_train_size = int(len(ham_train) * main_proportion), int(len(spam_train) * main_proportion)\n",
    "    ham_train, ham_train_dev = ham_train[:ham_train_size], ham_train[ham_train_size:]\n",
    "    spam_train, spam_train_dev = spam_train[:spam_train_size], spam_train[spam_train_size:]\n",
    "    train_set, train_dev_set, test_set = ham_train + spam_train, ham_train_dev + spam_train_dev, ham_test + spam_test\n",
    "    train_labels = np.zeros(len(train_set))\n",
    "    train_labels[(int((len(train_set)) - len(spam_train))):len(train_set)] = 1\n",
    "    train_dev_labels = np.zeros(len(train_dev_set))\n",
    "    train_dev_labels[(int((len(train_dev_set)) - len(spam_train_dev))):len(train_dev_set)] = 1\n",
    "    test_labels = np.zeros(len(test_set))\n",
    "    test_labels[(int((len(test_set)) - len(spam_test))):len(test_set)] = 1\n",
    "\n",
    "    all_set = ham_train + ham_train_dev + ham_test + spam_train + spam_train_dev + spam_test\n",
    "    all_labels = np.zeros(len(all_set))\n",
    "    all_labels[(int((len(all_labels)) - len(spam_train + spam_train_dev + spam_test))): len(all_set)] = 1\n",
    "\n",
    "    print(\"Train set:\\n\", \"Ham: \", str(len(ham_train)), \"\\n\", \"Spam: \", str(len(spam_train)),\n",
    "          \"\\nTrain_Dev:\\n Ham:\", str(len(ham_train_dev)), \"\\n Spam:\", str(len(spam_train_dev)),\n",
    "          \"\\nTest set:\\n\", \"Ham: \", str(len(ham_test)), \"\\n\", \"Spam: \", str(len(spam_test)),\n",
    "          \"\\nAll set:\\n\", \"Ham: \", str(len(ham_train + ham_train_dev + ham_test)), \"\\n\", \"Spam: \",\n",
    "          str(len(spam_train + spam_train_dev + spam_test)))\n",
    "    return train_set, test_set, train_labels, test_labels, train_dev_set, train_dev_labels, all_set, all_labels\n",
    "\n",
    "\n",
    "def load_(file, label):\n",
    "    if verbose_logs == False:\n",
    "        print('Loading ' + label + ' dataset')\n",
    "    with open(file, 'r') as fp:\n",
    "        values = []\n",
    "        doc_id = 0\n",
    "        size_file = fp.read().split(\";\")\n",
    "        for item in size_file:\n",
    "            if verbose_logs:\n",
    "                process_status(doc_id, size_file, \"loading \" + label + \" file...\")\n",
    "            values.append(item.split(\", \"))\n",
    "            doc_id += 1\n",
    "        return values\n",
    "\n",
    "\n",
    "def process_status(id, data, label):\n",
    "    if id + 1 < int(len(data)):\n",
    "        end_atp = \"\\r\"\n",
    "    elif id + 1 <= int(len(data)):\n",
    "        end_atp = \"\\n\"\n",
    "    return print(label, '%0.0i out of %0.0i: %0.0i' %\n",
    "                 (id + 1, len(data), int((id + 1) * (100 / len(data)))), '%', end='\\r', flush=True)\n",
    "\n",
    "\n",
    "def determine_model_name(model):\n",
    "    model_name = type(model).__name__\n",
    "    if model_name.lower() == 'svc':\n",
    "        return model_name + '_' + model.kernel\n",
    "    else:\n",
    "        return type(model).__name__\n",
    "\n",
    "\n",
    "def handle_scores_to_csv(file_name, save):\n",
    "    processed_scores = []\n",
    "    for i, d in enumerate(scores):\n",
    "        processed_score = [d[0]]\n",
    "        print(d)\n",
    "        for c, e in enumerate(scoring_parse_labels):\n",
    "            item = d[1][e]\n",
    "            item = item.astype(np.float)\n",
    "            if scoring_parse_labels[c] == 'fit_time' or scoring_parse_labels[c] == 'score_time':\n",
    "                processed_score.append('%0.6f' % (np.mean(item)))\n",
    "            else:\n",
    "                processed_score.append('%0.2f' % (float(np.mean(item))))\n",
    "        processed_scores.append(processed_score)\n",
    "\n",
    "    df = pd.DataFrame(processed_scores, columns=report_labels)\n",
    "    if save:\n",
    "        df.to_csv(file_name)\n",
    "\n",
    "    return df\n",
    "\n",
    "\n",
    "def roc_curve_report(X, y):\n",
    "    for a in range(len(models)):\n",
    "        model = models[a]\n",
    "        model_name = determine_model_name(model)\n",
    "        try:\n",
    "            aucs = []\n",
    "            i = 0;\n",
    "            for train, test in cv.split(X, y):\n",
    "                probas_ = model.fit(X[train], y[train]).predict_proba(X[test])\n",
    "                fpr, tpr, thresholds = roc_curve(y[test], probas_[:, 1])\n",
    "                roc_auc = auc(fpr, tpr)\n",
    "                aucs.append(roc_auc)\n",
    "                plt.plot(fpr, tpr, lw=1, alpha=0.5, label='ROC fold %d (AUC = %0.2f)' % (i, roc_auc))\n",
    "                i += 1\n",
    "            plt.xlim([-0.05, 1.05])\n",
    "            plt.ylim([-0.05, 1.05])\n",
    "            plt.xlabel('False Positive Rate')\n",
    "            plt.ylabel('True Positive Rate')\n",
    "            plt.title('ROC: ' + model_name)\n",
    "            plt.legend(loc=\"lower right\")\n",
    "            plt.savefig(\n",
    "                \"../results/plots/test/devROC_%s_%0i_features_%0i_test.png\" % (\n",
    "                    model_name, feature_size, len(X)),\n",
    "                dpi=100,\n",
    "                facecolor='w', edgecolor='b', linewidth=1, orientation='portrait', papertype=None,\n",
    "                format=\"png\", transparent=False, bbox_inches=None, pad_inches=0.1, frameon=None)\n",
    "            print(\"Created %s ROC figure\" % model_name)\n",
    "            plt.close()\n",
    "        except (AttributeError, OverflowError) as detail:\n",
    "            print(model_name + \" Failed due to \", detail)\n",
    "\n",
    "\n",
    "def shap_report(X, y, model):\n",
    "    X = pd.DataFrame(X)\n",
    "    y = pd.DataFrame(y)\n",
    "\n",
    "    train_X, val_X, train_y, val_y = train_test_split(X, y.values.ravel(), random_state=1)\n",
    "\n",
    "    model.fit(train_X, train_y)\n",
    "    med = train_X.mean().values.reshape((1, train_X.shape[1]))\n",
    "\n",
    "    # Create object that can calculate shap values\n",
    "    explainer = shap.KernelExplainer(model.predict_proba, med)\n",
    "    # Calculate Shap values\n",
    "    shap_values = explainer.shap_values(val_X.iloc[0:len(train_X), :], nsamples=len(train_X))\n",
    "\n",
    "    shap.summary_plot(shap_values[1], val_X.iloc[0:len(train_X), :], formatted_dictionary, show=False, color_bar=True,\n",
    "                      max_display=10,\n",
    "                      plot_size=(11, 8))\n",
    "    report_file_name = str(\n",
    "        len(dictionary)) + '_features_' + determine_model_name(\n",
    "        model) + '_shap_plot_beeswarm_' + datetime.now().strftime(\n",
    "        '%Y-%m-%dT%H-%M-%S%z') + '_.pdf'\n",
    "\n",
    "    plt.savefig('../results/shap/' + report_file_name)\n",
    "    plt.close()\n",
    "\n",
    "\n",
    "def models_report(X, y, save):  # function to test and record via csv, all algorithms selected.\n",
    "    print('Processing model tests...')\n",
    "    for a in range(len(models)):\n",
    "        model = models[a]\n",
    "        model_name = determine_model_name(model)\n",
    "        print('{} testing model...'.format(model_name))\n",
    "        scores.append([model_name, cross_validate(model, X, y, cv=cv, scoring=scoring, return_train_score=False)])\n",
    "\n",
    "    report_file_name = str(len(dictionary)) + '_features' '_models_test_report_' + datetime.now().strftime(\n",
    "        '%Y-%m-%dT%H-%M-%S%z') + '.csv'\n",
    "\n",
    "    df = handle_scores_to_csv('../results/scores/{}'.format(report_file_name), save)\n",
    "    print('Models test finished.')\n",
    "    return df\n",
    "\n",
    "\n",
    "def lr_test(X, y):\n",
    "    if len(scores) > 0:\n",
    "        scores.clear()\n",
    "\n",
    "    scores.append(\n",
    "        [determine_model_name(lr_classifier),\n",
    "         cross_validate(lr_classifier, X, y, cv=cv, scoring=scoring, return_train_score=False)])\n",
    "    handle_scores_to_csv('../results/scores/logistic_regression_test.csv', True)\n",
    "\n",
    "\n",
    "df = pd.DataFrame(scores, columns=['model_name', 'f1_score'])\n",
    "df.to_csv('../results/scores/svm_test_scores.csv')\n"
   ],
   "metadata": {
    "collapsed": false,
    "pycharm": {
     "name": "#%%\n"
    }
   }
  },
  {
   "cell_type": "markdown",
   "source": [
    "# User Input\n",
    "Please select the following options to for the notebook to process, please run the cell below to render the widgets."
   ],
   "metadata": {
    "collapsed": false,
    "pycharm": {
     "name": "#%% md\n"
    }
   }
  },
  {
   "cell_type": "code",
   "execution_count": 12,
   "metadata": {
    "collapsed": true,
    "pycharm": {
     "name": "#%%\n"
    }
   },
   "outputs": [
    {
     "data": {
      "text/plain": "GridspecLayout(children=(Label(value='Preprocessing and Feature Extraction Stage:', layout=Layout(grid_area='w…",
      "application/vnd.jupyter.widget-view+json": {
       "version_major": 2,
       "version_minor": 0,
       "model_id": "42329840505b4e46b6c27e1c90abfa3e"
      }
     },
     "metadata": {},
     "output_type": "display_data"
    }
   ],
   "source": [
    "from ipywidgets import widgets, GridspecLayout\n",
    "\n",
    "defined_widgets = []\n",
    "\n",
    "preprocess_label = widgets.Label('Preprocessing and Feature Extraction Stage:')\n",
    "defined_widgets.append(preprocess_label)\n",
    "\n",
    "feature_size_widget = widgets.IntSlider(\n",
    "    value=200,\n",
    "    min=50,\n",
    "    max=1000,\n",
    "    description='Feature size'\n",
    ")\n",
    "defined_widgets.append(feature_size_widget)\n",
    "\n",
    "show_logs = widgets.Checkbox(\n",
    "    value=False,\n",
    "    description='Show logs during process',\n",
    ")\n",
    "defined_widgets.append(show_logs)\n",
    "\n",
    "enable_preprocess_widget = widgets.Checkbox(\n",
    "    value=True,\n",
    "    description='Enable preprocessing data.',\n",
    ")\n",
    "defined_widgets.append(enable_preprocess_widget)\n",
    "\n",
    "exclude_common_artifacts = widgets.Checkbox(\n",
    "    value=True,\n",
    "    description='Exclude common artifacts',\n",
    ")\n",
    "defined_widgets.append(exclude_common_artifacts)\n",
    "\n",
    "reprocess_saved_feature_set = widgets.Checkbox(\n",
    "    value=True,\n",
    "    description='Use processed feature dataset',\n",
    ")\n",
    "defined_widgets.append(reprocess_saved_feature_set)\n",
    "\n",
    "test_label_widget = widgets.Label('Set selection')\n",
    "defined_widgets.append(test_label_widget)\n",
    "\n",
    "test_with_all = widgets.Checkbox(\n",
    "    value=False,\n",
    "    description='Full Dataset',\n",
    ")\n",
    "defined_widgets.append(test_with_all)\n",
    "\n",
    "test_with_train = widgets.Checkbox(\n",
    "    value=False,\n",
    "    description='Train Dataset',\n",
    ")\n",
    "defined_widgets.append(test_with_train)\n",
    "\n",
    "test_with_dev = widgets.Checkbox(\n",
    "    value=False,\n",
    "    description='Development Dataset',\n",
    ")\n",
    "defined_widgets.append(test_with_dev)\n",
    "\n",
    "test_with_test = widgets.Checkbox(\n",
    "    value=True,\n",
    "    description='Test Dataset',\n",
    ")\n",
    "defined_widgets.append(test_with_test)\n",
    "\n",
    "grid = GridspecLayout(len(defined_widgets), 1)\n",
    "\n",
    "for i in range(len(defined_widgets)):\n",
    "    grid[i, 0] = defined_widgets[i]\n",
    "\n",
    "display(grid)\n"
   ]
  },
  {
   "cell_type": "code",
   "execution_count": 13,
   "outputs": [
    {
     "name": "stdout",
     "output_type": "stream",
     "text": [
      "Loading ham dataset\n",
      "Loading spam dataset\n",
      "Building Dictionary...\n",
      "[('ect', 35666), ('company', 28711), ('please', 20234), ('ha', 20085), ('spam', 17847), ('wa', 17802), ('hou', 17264), ('would', 15499), ('time', 14803), ('new', 14776), ('price', 14215), ('business', 13526), ('may', 13110), ('information', 13076), ('one', 12298), ('gas', 11919), ('said', 11887), ('market', 11652), ('energy', 11411), ('year', 11365), ('get', 11176), ('http', 11136), ('day', 10835), ('message', 10689), ('need', 10656), ('stock', 10416), ('deal', 9996), ('know', 9682), ('pm', 9676), ('service', 9634), ('also', 9229), ('report', 8988), ('power', 8709), ('security', 8623), ('vince', 8621), ('thanks', 8389), ('week', 8363), ('like', 8254), ('statement', 7960), ('corp', 7950), ('make', 7856), ('number', 7838), ('million', 7755), ('inc', 7395), ('group', 7387), ('could', 7330), ('sent', 7173), ('share', 7157), ('risk', 7129), ('product', 7073), ('trading', 6956), ('investment', 6926), ('money', 6839), ('see', 6759), ('work', 6668), ('system', 6667), ('forward', 6369), ('let', 6339), ('call', 6322), ('want', 6262), ('month', 6258), ('order', 6251), ('contact', 6246), ('de', 6181), ('financial', 6123), ('within', 6090), ('free', 6058), ('next', 6026), ('last', 5968), ('term', 5935), ('go', 5906), ('credit', 5871), ('name', 5839), ('houston', 5828), ('take', 5812), ('offer', 5706), ('change', 5670), ('state', 5631), ('list', 5565), ('date', 5563), ('question', 5546), ('today', 5538), ('use', 5511), ('address', 5502), ('management', 5477), ('meeting', 5456), ('best', 5452), ('news', 5422), ('two', 5380), ('project', 5340), ('billion', 5315), ('account', 5275), ('right', 5255), ('customer', 5154), ('future', 5139), ('based', 5123), ('th', 5092), ('site', 5083), ('office', 5036), ('investor', 5033), ('first', 5009), ('sale', 5005), ('well', 5004), ('people', 4972), ('original', 4958), ('program', 4927), ('transaction', 4895), ('contract', 4887), ('data', 4858), ('dynegy', 4852), ('kaminski', 4809), ('many', 4727), ('click', 4723), ('help', 4717), ('per', 4682), ('software', 4676), ('net', 4665), ('made', 4653), ('back', 4608), ('issue', 4556), ('result', 4548), ('plan', 4481), ('cost', 4452), ('look', 4420), ('way', 4403), ('send', 4397), ('hour', 4396), ('online', 4386), ('rate', 4379), ('looking', 4373), ('available', 4355), ('attached', 4354), ('bank', 4306), ('good', 4276), ('line', 4215), ('interest', 4215), ('following', 4190), ('mr', 4144), ('regard', 4132), ('much', 4100), ('home', 4093), ('research', 4004), ('process', 3974), ('part', 3958), ('john', 3932), ('position', 3925), ('review', 3925), ('fund', 3923), ('schedule', 3921), ('due', 3892), ('jones', 3883), ('operation', 3878), ('forwarded', 3858), ('development', 3836), ('note', 3832), ('high', 3827), ('long', 3784), ('asset', 3747), ('phone', 3713), ('provide', 3706), ('since', 3700), ('team', 3700), ('think', 3663), ('say', 3655), ('request', 3643), ('louise', 3643), ('cash', 3630), ('thank', 3599), ('california', 3588), ('find', 3580), ('file', 3580), ('doe', 3556), ('friday', 3523), ('current', 3512), ('value', 3506), ('internet', 3500), ('agreement', 3496), ('option', 3490), ('event', 3488), ('world', 3483), ('website', 3465), ('give', 3457), ('come', 3430), ('dow', 3397), ('buy', 3395), ('monday', 3381), ('trade', 3380), ('start', 3378), ('international', 3347), ('employee', 3330), ('industry', 3326), ('act', 3323), ('total', 3310), ('going', 3307), ('dollar', 3303), ('end', 3285), ('receive', 3285), ('fax', 3277), ('analyst', 3277), ('even', 3265)]\n",
      "Train set:\n",
      " Ham:  10588 \n",
      " Spam:  10978 \n",
      "Train_Dev:\n",
      " Ham: 2648 \n",
      " Spam: 2745 \n",
      "Test set:\n",
      " Ham:  3310 \n",
      " Spam:  3431 \n",
      "All set:\n",
      " Ham:  16546 \n",
      " Spam:  17154\n",
      "Feature extraction 'test':\n",
      "Finished feature extraction\n"
     ]
    }
   ],
   "source": [
    "if __name__ == \"__main__\":\n",
    "    feature_size = feature_size_widget.value\n",
    "    verbose_logs = show_logs.value\n",
    "    remove_common_artifacts = exclude_common_artifacts.value\n",
    "    scores = []\n",
    "    if remove_common_artifacts:\n",
    "        a_files = [\"../data/processed_ham_remove_common_artifacts.txt\",\n",
    "                   \"../data/processed_spam_remove_common_artifacts.txt\"]\n",
    "    else:\n",
    "        a_files = [\"../data/processed_ham.txt\", \"../data/processed_spam.txt\"]\n",
    "\n",
    "    if reprocess_saved_feature_set.value:\n",
    "        ham_collection = load_(a_files[0], \"ham\")\n",
    "        spam_collection = load_(a_files[1], \"spam\")\n",
    "    else:\n",
    "        ham_collection, spam_collection = enron_selector(enable_preprocess_widget.value, True)\n",
    "    dictionary = dictionary_build((ham_collection + spam_collection), enable_preprocess_widget.value)\n",
    "    dictionary = dictionary.most_common(feature_size)\n",
    "    formatted_dictionary = []\n",
    "    for item in dictionary:\n",
    "        formatted_dictionary.append(item[0])\n",
    "\n",
    "    print(dictionary)\n",
    "    train_set, test_set, train_labels, test_labels, train_dev_set, train_dev_labels, all_set, all_labels = calculate(\n",
    "        ham_collection, spam_collection)\n",
    "\n",
    "    if test_with_all.value:\n",
    "        all_features = extract_features(all_set, 'all_set')\n",
    "    elif test_with_train.value:\n",
    "        train_features = extract_features(train_set, \"train\")\n",
    "        selected_set = 'train'\n",
    "    elif test_with_dev.value:\n",
    "        train_dev_features = extract_features(train_dev_set, \"train_dev\")\n",
    "        selected_set = 'dev'\n",
    "    elif test_with_test.value:\n",
    "        test_features = extract_features(test_set, \"test\")\n",
    "        selected_set = 'test'\n",
    "\n",
    "    if isinstance(all_features, np.ndarray):\n",
    "        all_features_scaled = MinMaxScaler().fit_transform(all_features, all_labels)\n",
    "\n",
    "    if isinstance(train_features, np.ndarray):\n",
    "        train_features_scaled = MinMaxScaler().fit_transform(train_features, train_labels)\n",
    "\n",
    "    if isinstance(train_dev_features, np.ndarray):\n",
    "        train_dev_features_scaled = MinMaxScaler().fit_transform(train_dev_features, train_dev_labels)\n",
    "\n",
    "    if isinstance(test_features, np.ndarray):\n",
    "        test_features_scaled = MinMaxScaler().fit_transform(test_features, test_labels)\n",
    "\n",
    "    print('Finished feature extraction')\n"
   ],
   "metadata": {
    "collapsed": false,
    "pycharm": {
     "name": "#%%\n"
    }
   }
  },
  {
   "cell_type": "markdown",
   "source": [
    "# Test Selection\n",
    "Please make sure the last cell have completed the run successfully.\n",
    "\n",
    "Run this cell to determine which feature set you've selected for reporting, refer to the user input cell on which set\n",
    "was selected."
   ],
   "metadata": {
    "collapsed": false
   }
  },
  {
   "cell_type": "code",
   "execution_count": null,
   "outputs": [],
   "source": [
    "if test_with_train.value:\n",
    "    selected_features = train_features_scaled\n",
    "    selected_labels = train_labels\n",
    "    print('Train set selected')\n",
    "elif test_with_dev.value:\n",
    "    selected_features = train_dev_features_scaled\n",
    "    selected_labels = train_dev_labels\n",
    "    print('Development set selected')\n",
    "elif test_with_test.value:\n",
    "    selected_features = test_features_scaled\n",
    "    selected_labels = test_labels\n",
    "    print('Test set selected')\n",
    "else:\n",
    "    selected_features = all_features_scaled\n",
    "    selected_labels = all_labels\n",
    "    print('Full dataset selected, size: {}'.format(len(selected_features)))\n",
    "    print('WARNING - ANY REPORT WILL TAKE A LONG TIME TO COMPLETE DUE TO THE SIZE OF THE DATASET SELECTED')\n",
    "\n",
    "df = pd.DataFrame(selected_features, columns=formatted_dictionary)\n"
   ],
   "metadata": {
    "collapsed": false,
    "pycharm": {
     "name": "#%%\n"
    }
   }
  },
  {
   "cell_type": "markdown",
   "source": [
    "## Model Report\n",
    "Run this cell to create the model report."
   ],
   "metadata": {
    "collapsed": false
   }
  },
  {
   "cell_type": "code",
   "execution_count": null,
   "outputs": [],
   "source": [
    "models_report(selected_features, selected_labels, True)"
   ],
   "metadata": {
    "collapsed": false,
    "pycharm": {
     "name": "#%%\n"
    }
   }
  },
  {
   "cell_type": "markdown",
   "source": [
    "## ROC Plots\n",
    "Run this cell to create the ROC plots for all models."
   ],
   "metadata": {
    "collapsed": false,
    "pycharm": {
     "name": "#%% md\n"
    }
   }
  },
  {
   "cell_type": "code",
   "execution_count": null,
   "outputs": [],
   "source": [
    "roc_curve_report(selected_features, selected_labels)"
   ],
   "metadata": {
    "collapsed": false,
    "pycharm": {
     "name": "#%%\n"
    }
   }
  },
  {
   "cell_type": "markdown",
   "source": [
    "## SHAP Plots\n",
    "**---WARNING---**\n",
    "\n",
    "This report takes a considerable amount of time to run!\n",
    "\n",
    "Run this cell to create the SHAP Plots for the top four models."
   ],
   "metadata": {
    "collapsed": false,
    "pycharm": {
     "name": "#%% md\n"
    }
   }
  },
  {
   "cell_type": "code",
   "execution_count": null,
   "outputs": [],
   "source": [
    "shap_report(selected_features, selected_labels, lr_classifier)"
   ],
   "metadata": {
    "collapsed": false,
    "pycharm": {
     "name": "#%%\n"
    }
   }
  },
  {
   "cell_type": "code",
   "execution_count": null,
   "outputs": [],
   "source": [
    "shap_report(selected_features, selected_labels, mpnn_classifier)"
   ],
   "metadata": {
    "collapsed": false,
    "pycharm": {
     "name": "#%%\n"
    }
   }
  },
  {
   "cell_type": "code",
   "execution_count": null,
   "outputs": [],
   "source": [
    "shap_report(selected_features, selected_labels, xgboost)"
   ],
   "metadata": {
    "collapsed": false,
    "pycharm": {
     "name": "#%%\n"
    }
   }
  },
  {
   "cell_type": "code",
   "execution_count": null,
   "outputs": [],
   "source": [
    "shap_report(selected_features, selected_labels, kn_classifier)\n"
   ],
   "metadata": {
    "collapsed": false,
    "pycharm": {
     "name": "#%%\n"
    }
   }
  },
  {
   "cell_type": "markdown",
   "source": [
    "## T_test figures report\n",
    "The following cell creates the report for all the figures to be used in the T_test implementation in R."
   ],
   "metadata": {
    "collapsed": false,
    "pycharm": {
     "name": "#%% md\n"
    }
   }
  },
  {
   "cell_type": "code",
   "execution_count": null,
   "outputs": [],
   "source": [
    "def t_test_results(X, y, iterations):  # function to test and record via csv, all algorithms selected.\n",
    "    cv_collection = []\n",
    "\n",
    "    # Ensure all cv collections are the same for each iteration of each model since shuffle is set to true.\n",
    "    for i in range(iterations):\n",
    "        cv_t = StratifiedKFold(n_splits=5, shuffle=True)\n",
    "        cv_collection.append(cv_t)\n",
    "\n",
    "    print('Processing features test...')\n",
    "\n",
    "    for a in range(len(models)):\n",
    "        model = models[a]\n",
    "        model_name = type(model).__name__\n",
    "        if model_name.lower() == 'svc':\n",
    "            model_name_field = model_name + '_' + model.kernel\n",
    "        else:\n",
    "            model_name_field = type(model).__name__\n",
    "\n",
    "        model_score = []\n",
    "        for count in range(iterations):\n",
    "            print('batch: {} | model: {}, processing...'.format(count + 1, model_name_field))\n",
    "            score = cross_validate(models[a], X, y, cv=cv_collection[count], scoring='f1', return_train_score=False)\n",
    "            if len(model_score) != 0:\n",
    "                model_score = np.append(model_score, score['test_score'])\n",
    "            else:\n",
    "                model_score.append(score['test_score'])\n",
    "\n",
    "        scores.append([model_name_field, ','.join(str(v) for v in model_score)])\n",
    "\n",
    "    df = pd.DataFrame(scores, columns=['model_name', 'f1_score'])\n",
    "    df.to_csv('../results/scores/t_test_values.csv')\n",
    "\n",
    "    return df\n",
    "\n",
    "\n",
    "t_test_results(selected_features, selected_labels, 4)"
   ],
   "metadata": {
    "collapsed": false,
    "pycharm": {
     "name": "#%%\n"
    }
   }
  },
  {
   "cell_type": "markdown",
   "source": [
    "## Feature selection test"
   ],
   "metadata": {
    "collapsed": false,
    "pycharm": {
     "name": "#%% md\n"
    }
   }
  },
  {
   "cell_type": "code",
   "execution_count": 16,
   "outputs": [
    {
     "name": "stdout",
     "output_type": "stream",
     "text": [
      "Building Dictionary...\n",
      "10\n",
      "[('ect', 35666), ('company', 28711), ('please', 20234), ('ha', 20085), ('spam', 17847), ('wa', 17802), ('hou', 17264), ('would', 15499), ('time', 14803), ('new', 14776)]\n",
      "Train set:\n",
      " Ham:  10588 \n",
      " Spam:  10978 \n",
      "Train_Dev:\n",
      " Ham: 2648 \n",
      " Spam: 2745 \n",
      "Test set:\n",
      " Ham:  3310 \n",
      " Spam:  3431 \n",
      "All set:\n",
      " Ham:  16546 \n",
      " Spam:  17154\n",
      "Feature extraction 'test':\n",
      "Processing model tests...\n",
      "KNeighborsClassifier testing model...\n",
      "MLPClassifier testing model...\n",
      "LogisticRegression testing model...\n",
      "RandomForestClassifier testing model...\n",
      "XGBClassifier testing model...\n",
      "[21:08:52] WARNING: C:/Users/Administrator/workspace/xgboost-win64_release_1.4.0/src/learner.cc:1095: Starting in XGBoost 1.3.0, the default evaluation metric used with the objective 'binary:logistic' was changed from 'error' to 'logloss'. Explicitly set eval_metric if you'd like to restore the old behavior.\n"
     ]
    },
    {
     "name": "stderr",
     "output_type": "stream",
     "text": [
      "The use of label encoder in XGBClassifier is deprecated and will be removed in a future release. To remove this warning, do the following: 1) Pass option use_label_encoder=False when constructing XGBClassifier object; and 2) Encode your labels (y) as integers starting with 0, i.e. 0, 1, 2, ..., [num_class - 1].\n",
      "The use of label encoder in XGBClassifier is deprecated and will be removed in a future release. To remove this warning, do the following: 1) Pass option use_label_encoder=False when constructing XGBClassifier object; and 2) Encode your labels (y) as integers starting with 0, i.e. 0, 1, 2, ..., [num_class - 1].\n"
     ]
    },
    {
     "name": "stdout",
     "output_type": "stream",
     "text": [
      "[21:08:53] WARNING: C:/Users/Administrator/workspace/xgboost-win64_release_1.4.0/src/learner.cc:1095: Starting in XGBoost 1.3.0, the default evaluation metric used with the objective 'binary:logistic' was changed from 'error' to 'logloss'. Explicitly set eval_metric if you'd like to restore the old behavior.\n"
     ]
    },
    {
     "name": "stderr",
     "output_type": "stream",
     "text": [
      "The use of label encoder in XGBClassifier is deprecated and will be removed in a future release. To remove this warning, do the following: 1) Pass option use_label_encoder=False when constructing XGBClassifier object; and 2) Encode your labels (y) as integers starting with 0, i.e. 0, 1, 2, ..., [num_class - 1].\n"
     ]
    },
    {
     "name": "stdout",
     "output_type": "stream",
     "text": [
      "[21:08:55] WARNING: C:/Users/Administrator/workspace/xgboost-win64_release_1.4.0/src/learner.cc:1095: Starting in XGBoost 1.3.0, the default evaluation metric used with the objective 'binary:logistic' was changed from 'error' to 'logloss'. Explicitly set eval_metric if you'd like to restore the old behavior.\n"
     ]
    },
    {
     "name": "stderr",
     "output_type": "stream",
     "text": [
      "The use of label encoder in XGBClassifier is deprecated and will be removed in a future release. To remove this warning, do the following: 1) Pass option use_label_encoder=False when constructing XGBClassifier object; and 2) Encode your labels (y) as integers starting with 0, i.e. 0, 1, 2, ..., [num_class - 1].\n"
     ]
    },
    {
     "name": "stdout",
     "output_type": "stream",
     "text": [
      "[21:08:56] WARNING: C:/Users/Administrator/workspace/xgboost-win64_release_1.4.0/src/learner.cc:1095: Starting in XGBoost 1.3.0, the default evaluation metric used with the objective 'binary:logistic' was changed from 'error' to 'logloss'. Explicitly set eval_metric if you'd like to restore the old behavior.\n"
     ]
    },
    {
     "name": "stderr",
     "output_type": "stream",
     "text": [
      "The use of label encoder in XGBClassifier is deprecated and will be removed in a future release. To remove this warning, do the following: 1) Pass option use_label_encoder=False when constructing XGBClassifier object; and 2) Encode your labels (y) as integers starting with 0, i.e. 0, 1, 2, ..., [num_class - 1].\n"
     ]
    },
    {
     "name": "stdout",
     "output_type": "stream",
     "text": [
      "[21:08:57] WARNING: C:/Users/Administrator/workspace/xgboost-win64_release_1.4.0/src/learner.cc:1095: Starting in XGBoost 1.3.0, the default evaluation metric used with the objective 'binary:logistic' was changed from 'error' to 'logloss'. Explicitly set eval_metric if you'd like to restore the old behavior.\n",
      "MultinomialNB testing model...\n",
      "GaussianNB testing model...\n",
      "BernoulliNB testing model...\n",
      "SVC_linear testing model...\n",
      "['KNeighborsClassifier', {'fit_time': array([0.00499773, 0.007478  , 0.00599742, 0.0065012 , 0.00849986]), 'score_time': array([0.22300339, 0.19750738, 0.21149993, 0.25449729, 0.22699928]), 'test_precision_macro': array([0.83618452, 0.84612531, 0.81942448, 0.7632433 , 0.785552  ]), 'test_recall_macro': array([0.83496484, 0.82976535, 0.80534294, 0.74792571, 0.76789568]), 'test_f1': array([0.84188034, 0.84936961, 0.82689747, 0.7787262 , 0.79712042])}]\n",
      "['MLPClassifier', {'fit_time': array([19.08197665, 16.04750013, 20.47950053, 29.36449981, 28.21449828]), 'score_time': array([0.00649595, 0.0059998 , 0.00750065, 0.00649834, 0.00599909]), 'test_precision_macro': array([0.94162501, 0.93844634, 0.92236785, 0.86750802, 0.87778601]), 'test_recall_macro': array([0.94170657, 0.93836814, 0.92008271, 0.86694397, 0.87738587]), 'test_f1': array([0.94161123, 0.93963636, 0.92416726, 0.87113031, 0.88086643])}]\n",
      "['LogisticRegression', {'fit_time': array([0.06350017, 0.08800197, 0.08300281, 0.08899903, 0.07249975]), 'score_time': array([0.00499821, 0.00499725, 0.00499821, 0.00499964, 0.00500011]), 'test_precision_macro': array([0.93360254, 0.90093834, 0.86400104, 0.84756748, 0.85941642]), 'test_recall_macro': array([0.92628421, 0.88877243, 0.83668405, 0.83841702, 0.84002228]), 'test_f1': array([0.93241379, 0.89986468, 0.85954693, 0.85306122, 0.8595913 ])}]\n",
      "['RandomForestClassifier', {'fit_time': array([0.5655036 , 0.57449841, 0.5934999 , 0.58699989, 0.56049824]), 'score_time': array([0.02800655, 0.02499962, 0.02599764, 0.02950287, 0.02700043]), 'test_precision_macro': array([0.96592358, 0.95693026, 0.93071037, 0.91641482, 0.90734278]), 'test_recall_macro': array([0.96608135, 0.95703892, 0.9290933 , 0.91597377, 0.90714814]), 'test_f1': array([0.96617647, 0.95754026, 0.93228795, 0.91841155, 0.9093546 ])}]\n",
      "['XGBClassifier', {'fit_time': array([1.03350067, 1.01199985, 1.0244987 , 1.00750065, 0.99099994]), 'score_time': array([0.01750565, 0.01799917, 0.01700163, 0.01800156, 0.01599884]), 'test_precision_macro': array([0.96660644, 0.96333783, 0.9295245 , 0.91392866, 0.91943186]), 'test_recall_macro': array([0.96675418, 0.96268486, 0.9250262 , 0.91109854, 0.91541886]), 'test_f1': array([0.96703297, 0.96397695, 0.93006993, 0.91601976, 0.92081289])}]\n",
      "['MultinomialNB', {'fit_time': array([0.01250148, 0.01200366, 0.01149917, 0.01300287, 0.00800252]), 'score_time': array([0.00899816, 0.00899887, 0.00899935, 0.00499487, 0.00499797]), 'test_precision_macro': array([0.87048241, 0.8961095 , 0.83903925, 0.82041785, 0.81765783]), 'test_recall_macro': array([0.85383492, 0.8961095 , 0.83887724, 0.82041785, 0.81771379]), 'test_f1': array([0.83579639, 0.89795918, 0.84263959, 0.82361516, 0.81804734])}]\n",
      "['GaussianNB', {'fit_time': array([0.02050114, 0.02000022, 0.02050257, 0.02147889, 0.02097774]), 'score_time': array([0.01049662, 0.01050067, 0.01150346, 0.0105195 , 0.01101089]), 'test_precision_macro': array([0.93151483, 0.8876069 , 0.85828288, 0.83692396, 0.84080264]), 'test_recall_macro': array([0.92566635, 0.86129143, 0.82683889, 0.80910836, 0.80121198]), 'test_f1': array([0.93129771, 0.88020833, 0.8525641 , 0.83655084, 0.83396226])}]\n",
      "['BernoulliNB', {'fit_time': array([0.01896644, 0.03300071, 0.01900196, 0.01799965, 0.02749896]), 'score_time': array([0.00799918, 0.00803828, 0.00749731, 0.00847459, 0.00802231]), 'test_precision_macro': array([0.9539929 , 0.93702378, 0.887163  , 0.89524839, 0.88509124]), 'test_recall_macro': array([0.95410669, 0.93244695, 0.87541508, 0.88043785, 0.87476549]), 'test_f1': array([0.95467836, 0.93706294, 0.88768606, 0.89336016, 0.88647179])}]\n",
      "['SVC_linear', {'fit_time': array([ 8.68499994, 10.96249795,  8.12450123,  8.0684793 ,  7.47049785]), 'score_time': array([0.28700113, 0.26100183, 0.21351862, 0.22550058, 0.2040019 ]), 'test_precision_macro': array([0.93609816, 0.90697762, 0.87251344, 0.84005492, 0.87001558]), 'test_recall_macro': array([0.92768484, 0.89077405, 0.84175966, 0.82938   , 0.84574749]), 'test_f1': array([0.93406593, 0.90301003, 0.86486486, 0.84594595, 0.86627528])}]\n",
      "Models test finished.\n",
      "Building Dictionary...\n",
      "25\n",
      "[('ect', 35666), ('company', 28711), ('please', 20234), ('ha', 20085), ('spam', 17847), ('wa', 17802), ('hou', 17264), ('would', 15499), ('time', 14803), ('new', 14776), ('price', 14215), ('business', 13526), ('may', 13110), ('information', 13076), ('one', 12298), ('gas', 11919), ('said', 11887), ('market', 11652), ('energy', 11411), ('year', 11365), ('get', 11176), ('http', 11136), ('day', 10835), ('message', 10689), ('need', 10656)]\n",
      "Train set:\n",
      " Ham:  10588 \n",
      " Spam:  10978 \n",
      "Train_Dev:\n",
      " Ham: 2648 \n",
      " Spam: 2745 \n",
      "Test set:\n",
      " Ham:  3310 \n",
      " Spam:  3431 \n",
      "All set:\n",
      " Ham:  16546 \n",
      " Spam:  17154\n",
      "Feature extraction 'test':\n",
      "Processing model tests...\n",
      "KNeighborsClassifier testing model...\n",
      "MLPClassifier testing model...\n",
      "LogisticRegression testing model...\n",
      "RandomForestClassifier testing model...\n",
      "XGBClassifier testing model...\n",
      "[21:12:11] WARNING: C:/Users/Administrator/workspace/xgboost-win64_release_1.4.0/src/learner.cc:1095: Starting in XGBoost 1.3.0, the default evaluation metric used with the objective 'binary:logistic' was changed from 'error' to 'logloss'. Explicitly set eval_metric if you'd like to restore the old behavior.\n"
     ]
    },
    {
     "name": "stderr",
     "output_type": "stream",
     "text": [
      "The use of label encoder in XGBClassifier is deprecated and will be removed in a future release. To remove this warning, do the following: 1) Pass option use_label_encoder=False when constructing XGBClassifier object; and 2) Encode your labels (y) as integers starting with 0, i.e. 0, 1, 2, ..., [num_class - 1].\n",
      "The use of label encoder in XGBClassifier is deprecated and will be removed in a future release. To remove this warning, do the following: 1) Pass option use_label_encoder=False when constructing XGBClassifier object; and 2) Encode your labels (y) as integers starting with 0, i.e. 0, 1, 2, ..., [num_class - 1].\n"
     ]
    },
    {
     "name": "stdout",
     "output_type": "stream",
     "text": [
      "[21:12:13] WARNING: C:/Users/Administrator/workspace/xgboost-win64_release_1.4.0/src/learner.cc:1095: Starting in XGBoost 1.3.0, the default evaluation metric used with the objective 'binary:logistic' was changed from 'error' to 'logloss'. Explicitly set eval_metric if you'd like to restore the old behavior.\n"
     ]
    },
    {
     "name": "stderr",
     "output_type": "stream",
     "text": [
      "The use of label encoder in XGBClassifier is deprecated and will be removed in a future release. To remove this warning, do the following: 1) Pass option use_label_encoder=False when constructing XGBClassifier object; and 2) Encode your labels (y) as integers starting with 0, i.e. 0, 1, 2, ..., [num_class - 1].\n"
     ]
    },
    {
     "name": "stdout",
     "output_type": "stream",
     "text": [
      "[21:12:14] WARNING: C:/Users/Administrator/workspace/xgboost-win64_release_1.4.0/src/learner.cc:1095: Starting in XGBoost 1.3.0, the default evaluation metric used with the objective 'binary:logistic' was changed from 'error' to 'logloss'. Explicitly set eval_metric if you'd like to restore the old behavior.\n"
     ]
    },
    {
     "name": "stderr",
     "output_type": "stream",
     "text": [
      "The use of label encoder in XGBClassifier is deprecated and will be removed in a future release. To remove this warning, do the following: 1) Pass option use_label_encoder=False when constructing XGBClassifier object; and 2) Encode your labels (y) as integers starting with 0, i.e. 0, 1, 2, ..., [num_class - 1].\n"
     ]
    },
    {
     "name": "stdout",
     "output_type": "stream",
     "text": [
      "[21:12:16] WARNING: C:/Users/Administrator/workspace/xgboost-win64_release_1.4.0/src/learner.cc:1095: Starting in XGBoost 1.3.0, the default evaluation metric used with the objective 'binary:logistic' was changed from 'error' to 'logloss'. Explicitly set eval_metric if you'd like to restore the old behavior.\n"
     ]
    },
    {
     "name": "stderr",
     "output_type": "stream",
     "text": [
      "The use of label encoder in XGBClassifier is deprecated and will be removed in a future release. To remove this warning, do the following: 1) Pass option use_label_encoder=False when constructing XGBClassifier object; and 2) Encode your labels (y) as integers starting with 0, i.e. 0, 1, 2, ..., [num_class - 1].\n"
     ]
    },
    {
     "name": "stdout",
     "output_type": "stream",
     "text": [
      "[21:12:18] WARNING: C:/Users/Administrator/workspace/xgboost-win64_release_1.4.0/src/learner.cc:1095: Starting in XGBoost 1.3.0, the default evaluation metric used with the objective 'binary:logistic' was changed from 'error' to 'logloss'. Explicitly set eval_metric if you'd like to restore the old behavior.\n",
      "MultinomialNB testing model...\n",
      "GaussianNB testing model...\n",
      "BernoulliNB testing model...\n",
      "SVC_linear testing model...\n",
      "['KNeighborsClassifier', {'fit_time': array([0.00549865, 0.00699782, 0.00599861, 0.00650096, 0.00599957]), 'score_time': array([0.22750282, 0.22850013, 0.21850038, 0.21749926, 0.24950051]), 'test_precision_macro': array([0.83618452, 0.84612531, 0.81942448, 0.7632433 , 0.785552  ]), 'test_recall_macro': array([0.83496484, 0.82976535, 0.80534294, 0.74792571, 0.76789568]), 'test_f1': array([0.84188034, 0.84936961, 0.82689747, 0.7787262 , 0.79712042])}]\n",
      "['MLPClassifier', {'fit_time': array([17.44099927, 28.4109993 , 29.43099809, 32.99699903, 12.97249961]), 'score_time': array([0.00699782, 0.00750113, 0.00700164, 0.00900102, 0.00750184]), 'test_precision_macro': array([0.9478631 , 0.93248177, 0.91225615, 0.87087895, 0.90057009]), 'test_recall_macro': array([0.94774887, 0.93245796, 0.90964081, 0.87087895, 0.89948958]), 'test_f1': array([0.9472119 , 0.93372178, 0.91448763, 0.87317784, 0.90336435])}]\n",
      "['LogisticRegression', {'fit_time': array([0.18449998, 0.14000034, 0.14850259, 0.1724987 , 0.19949937]), 'score_time': array([0.02649999, 0.00550079, 0.0175004 , 0.0059998 , 0.01200104]), 'test_precision_macro': array([0.93360254, 0.90093834, 0.86400104, 0.84756748, 0.85941642]), 'test_recall_macro': array([0.92628421, 0.88877243, 0.83668405, 0.83841702, 0.84002228]), 'test_f1': array([0.93241379, 0.89986468, 0.85954693, 0.85306122, 0.8595913 ])}]\n",
      "['RandomForestClassifier', {'fit_time': array([1.52299953, 1.31349921, 1.08699918, 1.02199769, 1.11700225]), 'score_time': array([0.05000067, 0.02799916, 0.05899978, 0.04650068, 0.03799939]), 'test_precision_macro': array([0.96592358, 0.95693026, 0.93071037, 0.91641482, 0.90734278]), 'test_recall_macro': array([0.96608135, 0.95703892, 0.9290933 , 0.91597377, 0.90714814]), 'test_f1': array([0.96617647, 0.95754026, 0.93228795, 0.91841155, 0.9093546 ])}]\n",
      "['XGBClassifier', {'fit_time': array([1.85300088, 1.59849763, 1.79599953, 1.63549685, 1.2459991 ]), 'score_time': array([0.03349996, 0.01600242, 0.01900172, 0.01950145, 0.01749897]), 'test_precision_macro': array([0.96660644, 0.96333783, 0.9295245 , 0.91392866, 0.91943186]), 'test_recall_macro': array([0.96675418, 0.96268486, 0.9250262 , 0.91109854, 0.91541886]), 'test_f1': array([0.96703297, 0.96397695, 0.93006993, 0.91601976, 0.92081289])}]\n",
      "['MultinomialNB', {'fit_time': array([0.0124979 , 0.01350331, 0.0129981 , 0.00950217, 0.00900149]), 'score_time': array([0.01150131, 0.00949717, 0.00949955, 0.0059967 , 0.00499892]), 'test_precision_macro': array([0.87048241, 0.8961095 , 0.83903925, 0.82041785, 0.81765783]), 'test_recall_macro': array([0.85383492, 0.8961095 , 0.83887724, 0.82041785, 0.81771379]), 'test_f1': array([0.83579639, 0.89795918, 0.84263959, 0.82361516, 0.81804734])}]\n",
      "['GaussianNB', {'fit_time': array([0.02800632, 0.02549911, 0.0274992 , 0.02552366, 0.0260005 ]), 'score_time': array([0.01199555, 0.01200104, 0.0115037 , 0.01447535, 0.01349878]), 'test_precision_macro': array([0.93151483, 0.8876069 , 0.85828288, 0.83692396, 0.84080264]), 'test_recall_macro': array([0.92566635, 0.86129143, 0.82683889, 0.80910836, 0.80121198]), 'test_f1': array([0.93129771, 0.88020833, 0.8525641 , 0.83655084, 0.83396226])}]\n",
      "['BernoulliNB', {'fit_time': array([0.02250218, 0.02150512, 0.02197766, 0.02299953, 0.02148104]), 'score_time': array([0.00752282, 0.00799465, 0.00852203, 0.00802231, 0.00801921]), 'test_precision_macro': array([0.9539929 , 0.93702378, 0.887163  , 0.89524839, 0.88509124]), 'test_recall_macro': array([0.95410669, 0.93244695, 0.87541508, 0.88043785, 0.87476549]), 'test_f1': array([0.95467836, 0.93706294, 0.88768606, 0.89336016, 0.88647179])}]\n",
      "['SVC_linear', {'fit_time': array([8.73452234, 9.35399961, 7.75500011, 7.91249847, 7.66199923]), 'score_time': array([0.24547458, 0.22202039, 0.20700264, 0.21200132, 0.22150254]), 'test_precision_macro': array([0.93609816, 0.90697762, 0.87251344, 0.84005492, 0.87001558]), 'test_recall_macro': array([0.92768484, 0.89077405, 0.84175966, 0.82938   , 0.84574749]), 'test_f1': array([0.93406593, 0.90301003, 0.86486486, 0.84594595, 0.86627528])}]\n",
      "Models test finished.\n",
      "Building Dictionary...\n",
      "50\n",
      "[('ect', 35666), ('company', 28711), ('please', 20234), ('ha', 20085), ('spam', 17847), ('wa', 17802), ('hou', 17264), ('would', 15499), ('time', 14803), ('new', 14776), ('price', 14215), ('business', 13526), ('may', 13110), ('information', 13076), ('one', 12298), ('gas', 11919), ('said', 11887), ('market', 11652), ('energy', 11411), ('year', 11365), ('get', 11176), ('http', 11136), ('day', 10835), ('message', 10689), ('need', 10656), ('stock', 10416), ('deal', 9996), ('know', 9682), ('pm', 9676), ('service', 9634), ('also', 9229), ('report', 8988), ('power', 8709), ('security', 8623), ('vince', 8621), ('thanks', 8389), ('week', 8363), ('like', 8254), ('statement', 7960), ('corp', 7950), ('make', 7856), ('number', 7838), ('million', 7755), ('inc', 7395), ('group', 7387), ('could', 7330), ('sent', 7173), ('share', 7157), ('risk', 7129), ('product', 7073)]\n",
      "Train set:\n",
      " Ham:  10588 \n",
      " Spam:  10978 \n",
      "Train_Dev:\n",
      " Ham: 2648 \n",
      " Spam: 2745 \n",
      "Test set:\n",
      " Ham:  3310 \n",
      " Spam:  3431 \n",
      "All set:\n",
      " Ham:  16546 \n",
      " Spam:  17154\n",
      "Feature extraction 'test':\n",
      "Processing model tests...\n",
      "KNeighborsClassifier testing model...\n",
      "MLPClassifier testing model...\n",
      "LogisticRegression testing model...\n",
      "RandomForestClassifier testing model...\n",
      "XGBClassifier testing model...\n",
      "[21:15:10] WARNING: C:/Users/Administrator/workspace/xgboost-win64_release_1.4.0/src/learner.cc:1095: Starting in XGBoost 1.3.0, the default evaluation metric used with the objective 'binary:logistic' was changed from 'error' to 'logloss'. Explicitly set eval_metric if you'd like to restore the old behavior.\n"
     ]
    },
    {
     "name": "stderr",
     "output_type": "stream",
     "text": [
      "The use of label encoder in XGBClassifier is deprecated and will be removed in a future release. To remove this warning, do the following: 1) Pass option use_label_encoder=False when constructing XGBClassifier object; and 2) Encode your labels (y) as integers starting with 0, i.e. 0, 1, 2, ..., [num_class - 1].\n",
      "The use of label encoder in XGBClassifier is deprecated and will be removed in a future release. To remove this warning, do the following: 1) Pass option use_label_encoder=False when constructing XGBClassifier object; and 2) Encode your labels (y) as integers starting with 0, i.e. 0, 1, 2, ..., [num_class - 1].\n"
     ]
    },
    {
     "name": "stdout",
     "output_type": "stream",
     "text": [
      "[21:15:11] WARNING: C:/Users/Administrator/workspace/xgboost-win64_release_1.4.0/src/learner.cc:1095: Starting in XGBoost 1.3.0, the default evaluation metric used with the objective 'binary:logistic' was changed from 'error' to 'logloss'. Explicitly set eval_metric if you'd like to restore the old behavior.\n"
     ]
    },
    {
     "name": "stderr",
     "output_type": "stream",
     "text": [
      "The use of label encoder in XGBClassifier is deprecated and will be removed in a future release. To remove this warning, do the following: 1) Pass option use_label_encoder=False when constructing XGBClassifier object; and 2) Encode your labels (y) as integers starting with 0, i.e. 0, 1, 2, ..., [num_class - 1].\n"
     ]
    },
    {
     "name": "stdout",
     "output_type": "stream",
     "text": [
      "[21:15:13] WARNING: C:/Users/Administrator/workspace/xgboost-win64_release_1.4.0/src/learner.cc:1095: Starting in XGBoost 1.3.0, the default evaluation metric used with the objective 'binary:logistic' was changed from 'error' to 'logloss'. Explicitly set eval_metric if you'd like to restore the old behavior.\n"
     ]
    },
    {
     "name": "stderr",
     "output_type": "stream",
     "text": [
      "The use of label encoder in XGBClassifier is deprecated and will be removed in a future release. To remove this warning, do the following: 1) Pass option use_label_encoder=False when constructing XGBClassifier object; and 2) Encode your labels (y) as integers starting with 0, i.e. 0, 1, 2, ..., [num_class - 1].\n"
     ]
    },
    {
     "name": "stdout",
     "output_type": "stream",
     "text": [
      "[21:15:15] WARNING: C:/Users/Administrator/workspace/xgboost-win64_release_1.4.0/src/learner.cc:1095: Starting in XGBoost 1.3.0, the default evaluation metric used with the objective 'binary:logistic' was changed from 'error' to 'logloss'. Explicitly set eval_metric if you'd like to restore the old behavior.\n"
     ]
    },
    {
     "name": "stderr",
     "output_type": "stream",
     "text": [
      "The use of label encoder in XGBClassifier is deprecated and will be removed in a future release. To remove this warning, do the following: 1) Pass option use_label_encoder=False when constructing XGBClassifier object; and 2) Encode your labels (y) as integers starting with 0, i.e. 0, 1, 2, ..., [num_class - 1].\n"
     ]
    },
    {
     "name": "stdout",
     "output_type": "stream",
     "text": [
      "[21:15:16] WARNING: C:/Users/Administrator/workspace/xgboost-win64_release_1.4.0/src/learner.cc:1095: Starting in XGBoost 1.3.0, the default evaluation metric used with the objective 'binary:logistic' was changed from 'error' to 'logloss'. Explicitly set eval_metric if you'd like to restore the old behavior.\n",
      "MultinomialNB testing model...\n",
      "GaussianNB testing model...\n",
      "BernoulliNB testing model...\n",
      "SVC_linear testing model...\n",
      "['KNeighborsClassifier', {'fit_time': array([0.00649834, 0.00600076, 0.00701714, 0.00700092, 0.00549841]), 'score_time': array([0.22550249, 0.22049594, 0.23597407, 0.24650025, 0.22650194]), 'test_precision_macro': array([0.83618452, 0.84612531, 0.81942448, 0.7632433 , 0.785552  ]), 'test_recall_macro': array([0.83496484, 0.82976535, 0.80534294, 0.74792571, 0.76789568]), 'test_f1': array([0.84188034, 0.84936961, 0.82689747, 0.7787262 , 0.79712042])}]\n",
      "['MLPClassifier', {'fit_time': array([18.61999917, 23.9425025 , 18.61150217, 19.65699983, 22.97499967]), 'score_time': array([0.00649786, 0.00699997, 0.00749969, 0.00700068, 0.00600123]), 'test_precision_macro': array([0.95206996, 0.94580632, 0.8971298 , 0.87246737, 0.89850802]), 'test_recall_macro': array([0.95211568, 0.94586816, 0.89571314, 0.87225741, 0.89547532]), 'test_f1': array([0.95188749, 0.94667641, 0.90014265, 0.87536232, 0.90140845])}]\n",
      "['LogisticRegression', {'fit_time': array([0.06100249, 0.08699846, 0.08550048, 0.10000086, 0.10700107]), 'score_time': array([0.0065012 , 0.00550246, 0.00649929, 0.00899982, 0.00500107]), 'test_precision_macro': array([0.93360254, 0.90093834, 0.86400104, 0.84756748, 0.85941642]), 'test_recall_macro': array([0.92628421, 0.88877243, 0.83668405, 0.83841702, 0.84002228]), 'test_f1': array([0.93241379, 0.89986468, 0.85954693, 0.85306122, 0.8595913 ])}]\n",
      "['RandomForestClassifier', {'fit_time': array([0.57050204, 0.63299727, 0.58252525, 0.59547734, 0.61900067]), 'score_time': array([0.02599835, 0.02499866, 0.02797794, 0.02450347, 0.02999902]), 'test_precision_macro': array([0.96592358, 0.95693026, 0.93071037, 0.91641482, 0.90734278]), 'test_recall_macro': array([0.96608135, 0.95703892, 0.9290933 , 0.91597377, 0.90714814]), 'test_f1': array([0.96617647, 0.95754026, 0.93228795, 0.91841155, 0.9093546 ])}]\n",
      "['XGBClassifier', {'fit_time': array([1.18749952, 1.1570003 , 1.87700009, 1.41599679, 1.18099785]), 'score_time': array([0.02600121, 0.02000022, 0.03950024, 0.01800132, 0.01800084]), 'test_precision_macro': array([0.96660644, 0.96333783, 0.9295245 , 0.91392866, 0.91943186]), 'test_recall_macro': array([0.96675418, 0.96268486, 0.9250262 , 0.91109854, 0.91541886]), 'test_f1': array([0.96703297, 0.96397695, 0.93006993, 0.91601976, 0.92081289])}]\n",
      "['MultinomialNB', {'fit_time': array([0.01200008, 0.01300216, 0.01199985, 0.01100183, 0.00899839]), 'score_time': array([0.00950074, 0.01000094, 0.00949931, 0.00549936, 0.00549746]), 'test_precision_macro': array([0.87048241, 0.8961095 , 0.83903925, 0.82041785, 0.81765783]), 'test_recall_macro': array([0.85383492, 0.8961095 , 0.83887724, 0.82041785, 0.81771379]), 'test_f1': array([0.83579639, 0.89795918, 0.84263959, 0.82361516, 0.81804734])}]\n",
      "['GaussianNB', {'fit_time': array([0.02300215, 0.02650213, 0.02449965, 0.02349782, 0.02400351]), 'score_time': array([0.01199818, 0.01600218, 0.0109973 , 0.012501  , 0.01149726]), 'test_precision_macro': array([0.93151483, 0.8876069 , 0.85828288, 0.83692396, 0.84080264]), 'test_recall_macro': array([0.92566635, 0.86129143, 0.82683889, 0.80910836, 0.80121198]), 'test_f1': array([0.93129771, 0.88020833, 0.8525641 , 0.83655084, 0.83396226])}]\n",
      "['BernoulliNB', {'fit_time': array([0.01900601, 0.02300072, 0.02150106, 0.02250123, 0.02149987]), 'score_time': array([0.00999856, 0.00849867, 0.00800061, 0.02050042, 0.0079987 ]), 'test_precision_macro': array([0.9539929 , 0.93702378, 0.887163  , 0.89524839, 0.88509124]), 'test_recall_macro': array([0.95410669, 0.93244695, 0.87541508, 0.88043785, 0.87476549]), 'test_f1': array([0.95467836, 0.93706294, 0.88768606, 0.89336016, 0.88647179])}]\n",
      "['SVC_linear', {'fit_time': array([8.34650159, 8.46950078, 8.00449991, 7.62800193, 8.352525  ]), 'score_time': array([0.23599887, 0.23049808, 0.21650004, 0.2120018 , 0.21397591]), 'test_precision_macro': array([0.93609816, 0.90697762, 0.87251344, 0.84005492, 0.87001558]), 'test_recall_macro': array([0.92768484, 0.89077405, 0.84175966, 0.82938   , 0.84574749]), 'test_f1': array([0.93406593, 0.90301003, 0.86486486, 0.84594595, 0.86627528])}]\n",
      "Models test finished.\n",
      "Building Dictionary...\n",
      "75\n",
      "[('ect', 35666), ('company', 28711), ('please', 20234), ('ha', 20085), ('spam', 17847), ('wa', 17802), ('hou', 17264), ('would', 15499), ('time', 14803), ('new', 14776), ('price', 14215), ('business', 13526), ('may', 13110), ('information', 13076), ('one', 12298), ('gas', 11919), ('said', 11887), ('market', 11652), ('energy', 11411), ('year', 11365), ('get', 11176), ('http', 11136), ('day', 10835), ('message', 10689), ('need', 10656), ('stock', 10416), ('deal', 9996), ('know', 9682), ('pm', 9676), ('service', 9634), ('also', 9229), ('report', 8988), ('power', 8709), ('security', 8623), ('vince', 8621), ('thanks', 8389), ('week', 8363), ('like', 8254), ('statement', 7960), ('corp', 7950), ('make', 7856), ('number', 7838), ('million', 7755), ('inc', 7395), ('group', 7387), ('could', 7330), ('sent', 7173), ('share', 7157), ('risk', 7129), ('product', 7073), ('trading', 6956), ('investment', 6926), ('money', 6839), ('see', 6759), ('work', 6668), ('system', 6667), ('forward', 6369), ('let', 6339), ('call', 6322), ('want', 6262), ('month', 6258), ('order', 6251), ('contact', 6246), ('de', 6181), ('financial', 6123), ('within', 6090), ('free', 6058), ('next', 6026), ('last', 5968), ('term', 5935), ('go', 5906), ('credit', 5871), ('name', 5839), ('houston', 5828), ('take', 5812)]\n",
      "Train set:\n",
      " Ham:  10588 \n",
      " Spam:  10978 \n",
      "Train_Dev:\n",
      " Ham: 2648 \n",
      " Spam: 2745 \n",
      "Test set:\n",
      " Ham:  3310 \n",
      " Spam:  3431 \n",
      "All set:\n",
      " Ham:  16546 \n",
      " Spam:  17154\n",
      "Feature extraction 'test':\n",
      "Processing model tests...\n",
      "KNeighborsClassifier testing model...\n",
      "MLPClassifier testing model...\n",
      "LogisticRegression testing model...\n",
      "RandomForestClassifier testing model...\n",
      "XGBClassifier testing model...\n",
      "[21:18:32] WARNING: C:/Users/Administrator/workspace/xgboost-win64_release_1.4.0/src/learner.cc:1095: Starting in XGBoost 1.3.0, the default evaluation metric used with the objective 'binary:logistic' was changed from 'error' to 'logloss'. Explicitly set eval_metric if you'd like to restore the old behavior.\n"
     ]
    },
    {
     "name": "stderr",
     "output_type": "stream",
     "text": [
      "The use of label encoder in XGBClassifier is deprecated and will be removed in a future release. To remove this warning, do the following: 1) Pass option use_label_encoder=False when constructing XGBClassifier object; and 2) Encode your labels (y) as integers starting with 0, i.e. 0, 1, 2, ..., [num_class - 1].\n",
      "The use of label encoder in XGBClassifier is deprecated and will be removed in a future release. To remove this warning, do the following: 1) Pass option use_label_encoder=False when constructing XGBClassifier object; and 2) Encode your labels (y) as integers starting with 0, i.e. 0, 1, 2, ..., [num_class - 1].\n"
     ]
    },
    {
     "name": "stdout",
     "output_type": "stream",
     "text": [
      "[21:18:33] WARNING: C:/Users/Administrator/workspace/xgboost-win64_release_1.4.0/src/learner.cc:1095: Starting in XGBoost 1.3.0, the default evaluation metric used with the objective 'binary:logistic' was changed from 'error' to 'logloss'. Explicitly set eval_metric if you'd like to restore the old behavior.\n"
     ]
    },
    {
     "name": "stderr",
     "output_type": "stream",
     "text": [
      "The use of label encoder in XGBClassifier is deprecated and will be removed in a future release. To remove this warning, do the following: 1) Pass option use_label_encoder=False when constructing XGBClassifier object; and 2) Encode your labels (y) as integers starting with 0, i.e. 0, 1, 2, ..., [num_class - 1].\n"
     ]
    },
    {
     "name": "stdout",
     "output_type": "stream",
     "text": [
      "[21:18:35] WARNING: C:/Users/Administrator/workspace/xgboost-win64_release_1.4.0/src/learner.cc:1095: Starting in XGBoost 1.3.0, the default evaluation metric used with the objective 'binary:logistic' was changed from 'error' to 'logloss'. Explicitly set eval_metric if you'd like to restore the old behavior.\n"
     ]
    },
    {
     "name": "stderr",
     "output_type": "stream",
     "text": [
      "The use of label encoder in XGBClassifier is deprecated and will be removed in a future release. To remove this warning, do the following: 1) Pass option use_label_encoder=False when constructing XGBClassifier object; and 2) Encode your labels (y) as integers starting with 0, i.e. 0, 1, 2, ..., [num_class - 1].\n"
     ]
    },
    {
     "name": "stdout",
     "output_type": "stream",
     "text": [
      "[21:18:36] WARNING: C:/Users/Administrator/workspace/xgboost-win64_release_1.4.0/src/learner.cc:1095: Starting in XGBoost 1.3.0, the default evaluation metric used with the objective 'binary:logistic' was changed from 'error' to 'logloss'. Explicitly set eval_metric if you'd like to restore the old behavior.\n"
     ]
    },
    {
     "name": "stderr",
     "output_type": "stream",
     "text": [
      "The use of label encoder in XGBClassifier is deprecated and will be removed in a future release. To remove this warning, do the following: 1) Pass option use_label_encoder=False when constructing XGBClassifier object; and 2) Encode your labels (y) as integers starting with 0, i.e. 0, 1, 2, ..., [num_class - 1].\n"
     ]
    },
    {
     "name": "stdout",
     "output_type": "stream",
     "text": [
      "[21:18:37] WARNING: C:/Users/Administrator/workspace/xgboost-win64_release_1.4.0/src/learner.cc:1095: Starting in XGBoost 1.3.0, the default evaluation metric used with the objective 'binary:logistic' was changed from 'error' to 'logloss'. Explicitly set eval_metric if you'd like to restore the old behavior.\n",
      "MultinomialNB testing model...\n",
      "GaussianNB testing model...\n",
      "BernoulliNB testing model...\n",
      "SVC_linear testing model...\n",
      "['KNeighborsClassifier', {'fit_time': array([0.00699568, 0.00547767, 0.00749779, 0.00650096, 0.00650048]), 'score_time': array([0.2300036 , 0.21800089, 0.23050046, 0.22499681, 0.24700236]), 'test_precision_macro': array([0.83618452, 0.84612531, 0.81942448, 0.7632433 , 0.785552  ]), 'test_recall_macro': array([0.83496484, 0.82976535, 0.80534294, 0.74792571, 0.76789568]), 'test_f1': array([0.84188034, 0.84936961, 0.82689747, 0.7787262 , 0.79712042])}]\n",
      "['MLPClassifier', {'fit_time': array([24.85300112, 23.04149914, 20.87050104, 42.79499888, 16.50600123]), 'score_time': array([0.00650048, 0.00599885, 0.00600123, 0.00650048, 0.00750089]), 'test_precision_macro': array([0.94910408, 0.92808965, 0.90514406, 0.87727946, 0.88471755]), 'test_recall_macro': array([0.94914951, 0.92821691, 0.9039156 , 0.87388909, 0.88397206]), 'test_f1': array([0.94892672, 0.92851879, 0.90779128, 0.88140351, 0.88793103])}]\n",
      "['LogisticRegression', {'fit_time': array([0.08900189, 0.10999918, 0.07250142, 0.08100057, 0.09600091]), 'score_time': array([0.00799942, 0.00499964, 0.00449944, 0.00499892, 0.00499868]), 'test_precision_macro': array([0.93360254, 0.90093834, 0.86400104, 0.84756748, 0.85941642]), 'test_recall_macro': array([0.92628421, 0.88877243, 0.83668405, 0.83841702, 0.84002228]), 'test_f1': array([0.93241379, 0.89986468, 0.85954693, 0.85306122, 0.8595913 ])}]\n",
      "['RandomForestClassifier', {'fit_time': array([0.60749578, 0.58350062, 0.59499931, 0.75199986, 0.86699963]), 'score_time': array([0.02650332, 0.02649689, 0.02750158, 0.03500199, 0.03150105]), 'test_precision_macro': array([0.96592358, 0.95693026, 0.93071037, 0.91641482, 0.90734278]), 'test_recall_macro': array([0.96608135, 0.95703892, 0.9290933 , 0.91597377, 0.90714814]), 'test_f1': array([0.96617647, 0.95754026, 0.93228795, 0.91841155, 0.9093546 ])}]\n",
      "['XGBClassifier', {'fit_time': array([1.26799917, 1.43799949, 1.26949859, 1.21399903, 1.27049804]), 'score_time': array([0.01699996, 0.02000189, 0.01750064, 0.01849914, 0.02000284]), 'test_precision_macro': array([0.96660644, 0.96333783, 0.9295245 , 0.91392866, 0.91943186]), 'test_recall_macro': array([0.96675418, 0.96268486, 0.9250262 , 0.91109854, 0.91541886]), 'test_f1': array([0.96703297, 0.96397695, 0.93006993, 0.91601976, 0.92081289])}]\n",
      "['MultinomialNB', {'fit_time': array([0.01250005, 0.01200223, 0.01200271, 0.01100087, 0.00800252]), 'score_time': array([0.01099992, 0.00999808, 0.01099753, 0.00599837, 0.00549865]), 'test_precision_macro': array([0.87048241, 0.8961095 , 0.83903925, 0.82041785, 0.81765783]), 'test_recall_macro': array([0.85383492, 0.8961095 , 0.83887724, 0.82041785, 0.81771379]), 'test_f1': array([0.83579639, 0.89795918, 0.84263959, 0.82361516, 0.81804734])}]\n",
      "['GaussianNB', {'fit_time': array([0.02500033, 0.02499795, 0.02400041, 0.02549934, 0.03050232]), 'score_time': array([0.01500106, 0.01149964, 0.01199722, 0.012501  , 0.01152182]), 'test_precision_macro': array([0.93151483, 0.8876069 , 0.85828288, 0.83692396, 0.84080264]), 'test_recall_macro': array([0.92566635, 0.86129143, 0.82683889, 0.80910836, 0.80121198]), 'test_f1': array([0.93129771, 0.88020833, 0.8525641 , 0.83655084, 0.83396226])}]\n",
      "['BernoulliNB', {'fit_time': array([0.02149916, 0.02202201, 0.0205009 , 0.02300096, 0.02199912]), 'score_time': array([0.00800419, 0.00850081, 0.00899839, 0.01099896, 0.00899839]), 'test_precision_macro': array([0.9539929 , 0.93702378, 0.887163  , 0.89524839, 0.88509124]), 'test_recall_macro': array([0.95410669, 0.93244695, 0.87541508, 0.88043785, 0.87476549]), 'test_f1': array([0.95467836, 0.93706294, 0.88768606, 0.89336016, 0.88647179])}]\n",
      "['SVC_linear', {'fit_time': array([8.66999984, 8.83147693, 8.29700017, 8.45450258, 8.06500578]), 'score_time': array([0.24049759, 0.2329967 , 0.22799969, 0.24099755, 0.19699407]), 'test_precision_macro': array([0.93609816, 0.90697762, 0.87251344, 0.84005492, 0.87001558]), 'test_recall_macro': array([0.92768484, 0.89077405, 0.84175966, 0.82938   , 0.84574749]), 'test_f1': array([0.93406593, 0.90301003, 0.86486486, 0.84594595, 0.86627528])}]\n",
      "Models test finished.\n",
      "Building Dictionary...\n",
      "100\n",
      "[('ect', 35666), ('company', 28711), ('please', 20234), ('ha', 20085), ('spam', 17847), ('wa', 17802), ('hou', 17264), ('would', 15499), ('time', 14803), ('new', 14776), ('price', 14215), ('business', 13526), ('may', 13110), ('information', 13076), ('one', 12298), ('gas', 11919), ('said', 11887), ('market', 11652), ('energy', 11411), ('year', 11365), ('get', 11176), ('http', 11136), ('day', 10835), ('message', 10689), ('need', 10656), ('stock', 10416), ('deal', 9996), ('know', 9682), ('pm', 9676), ('service', 9634), ('also', 9229), ('report', 8988), ('power', 8709), ('security', 8623), ('vince', 8621), ('thanks', 8389), ('week', 8363), ('like', 8254), ('statement', 7960), ('corp', 7950), ('make', 7856), ('number', 7838), ('million', 7755), ('inc', 7395), ('group', 7387), ('could', 7330), ('sent', 7173), ('share', 7157), ('risk', 7129), ('product', 7073), ('trading', 6956), ('investment', 6926), ('money', 6839), ('see', 6759), ('work', 6668), ('system', 6667), ('forward', 6369), ('let', 6339), ('call', 6322), ('want', 6262), ('month', 6258), ('order', 6251), ('contact', 6246), ('de', 6181), ('financial', 6123), ('within', 6090), ('free', 6058), ('next', 6026), ('last', 5968), ('term', 5935), ('go', 5906), ('credit', 5871), ('name', 5839), ('houston', 5828), ('take', 5812), ('offer', 5706), ('change', 5670), ('state', 5631), ('list', 5565), ('date', 5563), ('question', 5546), ('today', 5538), ('use', 5511), ('address', 5502), ('management', 5477), ('meeting', 5456), ('best', 5452), ('news', 5422), ('two', 5380), ('project', 5340), ('billion', 5315), ('account', 5275), ('right', 5255), ('customer', 5154), ('future', 5139), ('based', 5123), ('th', 5092), ('site', 5083), ('office', 5036), ('investor', 5033)]\n",
      "Train set:\n",
      " Ham:  10588 \n",
      " Spam:  10978 \n",
      "Train_Dev:\n",
      " Ham: 2648 \n",
      " Spam: 2745 \n",
      "Test set:\n",
      " Ham:  3310 \n",
      " Spam:  3431 \n",
      "All set:\n",
      " Ham:  16546 \n",
      " Spam:  17154\n",
      "Feature extraction 'test':\n",
      "Processing model tests...\n",
      "KNeighborsClassifier testing model...\n",
      "MLPClassifier testing model...\n",
      "LogisticRegression testing model...\n",
      "RandomForestClassifier testing model...\n",
      "XGBClassifier testing model...\n",
      "[21:21:39] WARNING: C:/Users/Administrator/workspace/xgboost-win64_release_1.4.0/src/learner.cc:1095: Starting in XGBoost 1.3.0, the default evaluation metric used with the objective 'binary:logistic' was changed from 'error' to 'logloss'. Explicitly set eval_metric if you'd like to restore the old behavior.\n"
     ]
    },
    {
     "name": "stderr",
     "output_type": "stream",
     "text": [
      "The use of label encoder in XGBClassifier is deprecated and will be removed in a future release. To remove this warning, do the following: 1) Pass option use_label_encoder=False when constructing XGBClassifier object; and 2) Encode your labels (y) as integers starting with 0, i.e. 0, 1, 2, ..., [num_class - 1].\n",
      "The use of label encoder in XGBClassifier is deprecated and will be removed in a future release. To remove this warning, do the following: 1) Pass option use_label_encoder=False when constructing XGBClassifier object; and 2) Encode your labels (y) as integers starting with 0, i.e. 0, 1, 2, ..., [num_class - 1].\n"
     ]
    },
    {
     "name": "stdout",
     "output_type": "stream",
     "text": [
      "[21:21:41] WARNING: C:/Users/Administrator/workspace/xgboost-win64_release_1.4.0/src/learner.cc:1095: Starting in XGBoost 1.3.0, the default evaluation metric used with the objective 'binary:logistic' was changed from 'error' to 'logloss'. Explicitly set eval_metric if you'd like to restore the old behavior.\n"
     ]
    },
    {
     "name": "stderr",
     "output_type": "stream",
     "text": [
      "The use of label encoder in XGBClassifier is deprecated and will be removed in a future release. To remove this warning, do the following: 1) Pass option use_label_encoder=False when constructing XGBClassifier object; and 2) Encode your labels (y) as integers starting with 0, i.e. 0, 1, 2, ..., [num_class - 1].\n"
     ]
    },
    {
     "name": "stdout",
     "output_type": "stream",
     "text": [
      "[21:21:42] WARNING: C:/Users/Administrator/workspace/xgboost-win64_release_1.4.0/src/learner.cc:1095: Starting in XGBoost 1.3.0, the default evaluation metric used with the objective 'binary:logistic' was changed from 'error' to 'logloss'. Explicitly set eval_metric if you'd like to restore the old behavior.\n"
     ]
    },
    {
     "name": "stderr",
     "output_type": "stream",
     "text": [
      "The use of label encoder in XGBClassifier is deprecated and will be removed in a future release. To remove this warning, do the following: 1) Pass option use_label_encoder=False when constructing XGBClassifier object; and 2) Encode your labels (y) as integers starting with 0, i.e. 0, 1, 2, ..., [num_class - 1].\n"
     ]
    },
    {
     "name": "stdout",
     "output_type": "stream",
     "text": [
      "[21:21:43] WARNING: C:/Users/Administrator/workspace/xgboost-win64_release_1.4.0/src/learner.cc:1095: Starting in XGBoost 1.3.0, the default evaluation metric used with the objective 'binary:logistic' was changed from 'error' to 'logloss'. Explicitly set eval_metric if you'd like to restore the old behavior.\n"
     ]
    },
    {
     "name": "stderr",
     "output_type": "stream",
     "text": [
      "The use of label encoder in XGBClassifier is deprecated and will be removed in a future release. To remove this warning, do the following: 1) Pass option use_label_encoder=False when constructing XGBClassifier object; and 2) Encode your labels (y) as integers starting with 0, i.e. 0, 1, 2, ..., [num_class - 1].\n"
     ]
    },
    {
     "name": "stdout",
     "output_type": "stream",
     "text": [
      "[21:21:45] WARNING: C:/Users/Administrator/workspace/xgboost-win64_release_1.4.0/src/learner.cc:1095: Starting in XGBoost 1.3.0, the default evaluation metric used with the objective 'binary:logistic' was changed from 'error' to 'logloss'. Explicitly set eval_metric if you'd like to restore the old behavior.\n",
      "MultinomialNB testing model...\n",
      "GaussianNB testing model...\n",
      "BernoulliNB testing model...\n",
      "SVC_linear testing model...\n",
      "['KNeighborsClassifier', {'fit_time': array([0.00499892, 0.00600147, 0.00649953, 0.00699711, 0.00600076]), 'score_time': array([0.23047805, 0.22749996, 0.2545023 , 0.20749998, 0.23550081]), 'test_precision_macro': array([0.83618452, 0.84612531, 0.81942448, 0.7632433 , 0.785552  ]), 'test_recall_macro': array([0.83496484, 0.82976535, 0.80534294, 0.74792571, 0.76789568]), 'test_f1': array([0.84188034, 0.84936961, 0.82689747, 0.7787262 , 0.79712042])}]\n",
      "['MLPClassifier', {'fit_time': array([19.99097776, 19.43000269, 29.76999784, 23.71550083, 19.9455061 ]), 'score_time': array([0.00699925, 0.0094974 , 0.01050186, 0.00649881, 0.00849509]), 'test_precision_macro': array([0.94568498, 0.94136693, 0.92154076, 0.88342683, 0.89085232]), 'test_recall_macro': array([0.94553798, 0.94138929, 0.91935384, 0.88152123, 0.888081  ]), 'test_f1': array([0.94494048, 0.94237783, 0.92340426, 0.88715401, 0.89421721])}]\n",
      "['LogisticRegression', {'fit_time': array([0.08150053, 0.13199902, 0.10445309, 0.12050176, 0.11200237]), 'score_time': array([0.00650024, 0.00549889, 0.00650048, 0.00749803, 0.00899959]), 'test_precision_macro': array([0.93360254, 0.90093834, 0.86400104, 0.84756748, 0.85941642]), 'test_recall_macro': array([0.92628421, 0.88877243, 0.83668405, 0.83841702, 0.84002228]), 'test_f1': array([0.93241379, 0.89986468, 0.85954693, 0.85306122, 0.8595913 ])}]\n",
      "['RandomForestClassifier', {'fit_time': array([0.68950152, 0.66599822, 0.61200118, 0.60950089, 0.60997963]), 'score_time': array([0.02699661, 0.03400111, 0.02552414, 0.02601981, 0.0285182 ]), 'test_precision_macro': array([0.96592358, 0.95693026, 0.93071037, 0.91641482, 0.90734278]), 'test_recall_macro': array([0.96608135, 0.95703892, 0.9290933 , 0.91597377, 0.90714814]), 'test_f1': array([0.96617647, 0.95754026, 0.93228795, 0.91841155, 0.9093546 ])}]\n",
      "['XGBClassifier', {'fit_time': array([1.27147484, 1.26899719, 1.27349806, 1.24949932, 1.20950079]), 'score_time': array([0.02000093, 0.01800013, 0.01750255, 0.01900196, 0.01750183]), 'test_precision_macro': array([0.96660644, 0.96333783, 0.9295245 , 0.91392866, 0.91943186]), 'test_recall_macro': array([0.96675418, 0.96268486, 0.9250262 , 0.91109854, 0.91541886]), 'test_f1': array([0.96703297, 0.96397695, 0.93006993, 0.91601976, 0.92081289])}]\n",
      "['MultinomialNB', {'fit_time': array([0.02000093, 0.01899815, 0.01200271, 0.02199864, 0.0090003 ]), 'score_time': array([0.01000357, 0.0095005 , 0.00999856, 0.00599861, 0.00499868]), 'test_precision_macro': array([0.87048241, 0.8961095 , 0.83903925, 0.82041785, 0.81765783]), 'test_recall_macro': array([0.85383492, 0.8961095 , 0.83887724, 0.82041785, 0.81771379]), 'test_f1': array([0.83579639, 0.89795918, 0.84263959, 0.82361516, 0.81804734])}]\n",
      "['GaussianNB', {'fit_time': array([0.03249907, 0.03000045, 0.03600097, 0.02649903, 0.02201796]), 'score_time': array([0.01100063, 0.01250219, 0.01200032, 0.01150346, 0.01100445]), 'test_precision_macro': array([0.93151483, 0.8876069 , 0.85828288, 0.83692396, 0.84080264]), 'test_recall_macro': array([0.92566635, 0.86129143, 0.82683889, 0.80910836, 0.80121198]), 'test_f1': array([0.93129771, 0.88020833, 0.8525641 , 0.83655084, 0.83396226])}]\n",
      "['BernoulliNB', {'fit_time': array([0.01950502, 0.02005672, 0.0220263 , 0.02349901, 0.01899767]), 'score_time': array([0.0074749 , 0.00944209, 0.0079751 , 0.0080018 , 0.00750256]), 'test_precision_macro': array([0.9539929 , 0.93702378, 0.887163  , 0.89524839, 0.88509124]), 'test_recall_macro': array([0.95410669, 0.93244695, 0.87541508, 0.88043785, 0.87476549]), 'test_f1': array([0.95467836, 0.93706294, 0.88768606, 0.89336016, 0.88647179])}]\n",
      "['SVC_linear', {'fit_time': array([8.88699961, 9.11099792, 7.91652489, 7.99452305, 8.10399723]), 'score_time': array([0.22950101, 0.23150063, 0.21797419, 0.2164793 , 0.21550035]), 'test_precision_macro': array([0.93609816, 0.90697762, 0.87251344, 0.84005492, 0.87001558]), 'test_recall_macro': array([0.92768484, 0.89077405, 0.84175966, 0.82938   , 0.84574749]), 'test_f1': array([0.93406593, 0.90301003, 0.86486486, 0.84594595, 0.86627528])}]\n",
      "Models test finished.\n",
      "Building Dictionary...\n",
      "125\n",
      "[('ect', 35666), ('company', 28711), ('please', 20234), ('ha', 20085), ('spam', 17847), ('wa', 17802), ('hou', 17264), ('would', 15499), ('time', 14803), ('new', 14776), ('price', 14215), ('business', 13526), ('may', 13110), ('information', 13076), ('one', 12298), ('gas', 11919), ('said', 11887), ('market', 11652), ('energy', 11411), ('year', 11365), ('get', 11176), ('http', 11136), ('day', 10835), ('message', 10689), ('need', 10656), ('stock', 10416), ('deal', 9996), ('know', 9682), ('pm', 9676), ('service', 9634), ('also', 9229), ('report', 8988), ('power', 8709), ('security', 8623), ('vince', 8621), ('thanks', 8389), ('week', 8363), ('like', 8254), ('statement', 7960), ('corp', 7950), ('make', 7856), ('number', 7838), ('million', 7755), ('inc', 7395), ('group', 7387), ('could', 7330), ('sent', 7173), ('share', 7157), ('risk', 7129), ('product', 7073), ('trading', 6956), ('investment', 6926), ('money', 6839), ('see', 6759), ('work', 6668), ('system', 6667), ('forward', 6369), ('let', 6339), ('call', 6322), ('want', 6262), ('month', 6258), ('order', 6251), ('contact', 6246), ('de', 6181), ('financial', 6123), ('within', 6090), ('free', 6058), ('next', 6026), ('last', 5968), ('term', 5935), ('go', 5906), ('credit', 5871), ('name', 5839), ('houston', 5828), ('take', 5812), ('offer', 5706), ('change', 5670), ('state', 5631), ('list', 5565), ('date', 5563), ('question', 5546), ('today', 5538), ('use', 5511), ('address', 5502), ('management', 5477), ('meeting', 5456), ('best', 5452), ('news', 5422), ('two', 5380), ('project', 5340), ('billion', 5315), ('account', 5275), ('right', 5255), ('customer', 5154), ('future', 5139), ('based', 5123), ('th', 5092), ('site', 5083), ('office', 5036), ('investor', 5033), ('first', 5009), ('sale', 5005), ('well', 5004), ('people', 4972), ('original', 4958), ('program', 4927), ('transaction', 4895), ('contract', 4887), ('data', 4858), ('dynegy', 4852), ('kaminski', 4809), ('many', 4727), ('click', 4723), ('help', 4717), ('per', 4682), ('software', 4676), ('net', 4665), ('made', 4653), ('back', 4608), ('issue', 4556), ('result', 4548), ('plan', 4481), ('cost', 4452), ('look', 4420), ('way', 4403)]\n",
      "Train set:\n",
      " Ham:  10588 \n",
      " Spam:  10978 \n",
      "Train_Dev:\n",
      " Ham: 2648 \n",
      " Spam: 2745 \n",
      "Test set:\n",
      " Ham:  3310 \n",
      " Spam:  3431 \n",
      "All set:\n",
      " Ham:  16546 \n",
      " Spam:  17154\n",
      "Feature extraction 'test':\n",
      "Processing model tests...\n",
      "KNeighborsClassifier testing model...\n",
      "MLPClassifier testing model...\n",
      "LogisticRegression testing model...\n",
      "RandomForestClassifier testing model...\n",
      "XGBClassifier testing model...\n",
      "[21:25:12] WARNING: C:/Users/Administrator/workspace/xgboost-win64_release_1.4.0/src/learner.cc:1095: Starting in XGBoost 1.3.0, the default evaluation metric used with the objective 'binary:logistic' was changed from 'error' to 'logloss'. Explicitly set eval_metric if you'd like to restore the old behavior.\n"
     ]
    },
    {
     "name": "stderr",
     "output_type": "stream",
     "text": [
      "The use of label encoder in XGBClassifier is deprecated and will be removed in a future release. To remove this warning, do the following: 1) Pass option use_label_encoder=False when constructing XGBClassifier object; and 2) Encode your labels (y) as integers starting with 0, i.e. 0, 1, 2, ..., [num_class - 1].\n",
      "The use of label encoder in XGBClassifier is deprecated and will be removed in a future release. To remove this warning, do the following: 1) Pass option use_label_encoder=False when constructing XGBClassifier object; and 2) Encode your labels (y) as integers starting with 0, i.e. 0, 1, 2, ..., [num_class - 1].\n"
     ]
    },
    {
     "name": "stdout",
     "output_type": "stream",
     "text": [
      "[21:25:13] WARNING: C:/Users/Administrator/workspace/xgboost-win64_release_1.4.0/src/learner.cc:1095: Starting in XGBoost 1.3.0, the default evaluation metric used with the objective 'binary:logistic' was changed from 'error' to 'logloss'. Explicitly set eval_metric if you'd like to restore the old behavior.\n"
     ]
    },
    {
     "name": "stderr",
     "output_type": "stream",
     "text": [
      "The use of label encoder in XGBClassifier is deprecated and will be removed in a future release. To remove this warning, do the following: 1) Pass option use_label_encoder=False when constructing XGBClassifier object; and 2) Encode your labels (y) as integers starting with 0, i.e. 0, 1, 2, ..., [num_class - 1].\n"
     ]
    },
    {
     "name": "stdout",
     "output_type": "stream",
     "text": [
      "[21:25:14] WARNING: C:/Users/Administrator/workspace/xgboost-win64_release_1.4.0/src/learner.cc:1095: Starting in XGBoost 1.3.0, the default evaluation metric used with the objective 'binary:logistic' was changed from 'error' to 'logloss'. Explicitly set eval_metric if you'd like to restore the old behavior.\n"
     ]
    },
    {
     "name": "stderr",
     "output_type": "stream",
     "text": [
      "The use of label encoder in XGBClassifier is deprecated and will be removed in a future release. To remove this warning, do the following: 1) Pass option use_label_encoder=False when constructing XGBClassifier object; and 2) Encode your labels (y) as integers starting with 0, i.e. 0, 1, 2, ..., [num_class - 1].\n"
     ]
    },
    {
     "name": "stdout",
     "output_type": "stream",
     "text": [
      "[21:25:16] WARNING: C:/Users/Administrator/workspace/xgboost-win64_release_1.4.0/src/learner.cc:1095: Starting in XGBoost 1.3.0, the default evaluation metric used with the objective 'binary:logistic' was changed from 'error' to 'logloss'. Explicitly set eval_metric if you'd like to restore the old behavior.\n"
     ]
    },
    {
     "name": "stderr",
     "output_type": "stream",
     "text": [
      "The use of label encoder in XGBClassifier is deprecated and will be removed in a future release. To remove this warning, do the following: 1) Pass option use_label_encoder=False when constructing XGBClassifier object; and 2) Encode your labels (y) as integers starting with 0, i.e. 0, 1, 2, ..., [num_class - 1].\n"
     ]
    },
    {
     "name": "stdout",
     "output_type": "stream",
     "text": [
      "[21:25:17] WARNING: C:/Users/Administrator/workspace/xgboost-win64_release_1.4.0/src/learner.cc:1095: Starting in XGBoost 1.3.0, the default evaluation metric used with the objective 'binary:logistic' was changed from 'error' to 'logloss'. Explicitly set eval_metric if you'd like to restore the old behavior.\n",
      "MultinomialNB testing model...\n",
      "GaussianNB testing model...\n",
      "BernoulliNB testing model...\n",
      "SVC_linear testing model...\n",
      "['KNeighborsClassifier', {'fit_time': array([0.00602007, 0.00699782, 0.0095017 , 0.00600052, 0.00549936]), 'score_time': array([0.25347972, 0.24800038, 0.2475009 , 0.23949909, 0.24150252]), 'test_precision_macro': array([0.83618452, 0.84612531, 0.81942448, 0.7632433 , 0.785552  ]), 'test_recall_macro': array([0.83496484, 0.82976535, 0.80534294, 0.74792571, 0.76789568]), 'test_f1': array([0.84188034, 0.84936961, 0.82689747, 0.7787262 , 0.79712042])}]\n",
      "['MLPClassifier', {'fit_time': array([37.02650118, 25.61750031, 20.03200364, 34.33050084, 20.37450027]), 'score_time': array([0.00649786, 0.00700092, 0.00649714, 0.01199937, 0.00750041]), 'test_precision_macro': array([0.94233712, 0.94209229, 0.91730268, 0.82931727, 0.89038572]), 'test_recall_macro': array([0.94243438, 0.94219742, 0.91573595, 0.82934918, 0.89001436]), 'test_f1': array([0.94239291, 0.94289898, 0.9194583 , 0.83211679, 0.89306358])}]\n",
      "['LogisticRegression', {'fit_time': array([0.08749866, 0.11350155, 0.08000159, 0.0839994 , 0.08950162]), 'score_time': array([0.00599957, 0.00600076, 0.00649881, 0.00500226, 0.00499797]), 'test_precision_macro': array([0.93360254, 0.90093834, 0.86400104, 0.84756748, 0.85941642]), 'test_recall_macro': array([0.92628421, 0.88877243, 0.83668405, 0.83841702, 0.84002228]), 'test_f1': array([0.93241379, 0.89986468, 0.85954693, 0.85306122, 0.8595913 ])}]\n",
      "['RandomForestClassifier', {'fit_time': array([0.66150331, 0.70200181, 0.70099974, 0.68099952, 0.65550017]), 'score_time': array([0.02649665, 0.03249979, 0.02799821, 0.03050041, 0.02850127]), 'test_precision_macro': array([0.96592358, 0.95693026, 0.93071037, 0.91641482, 0.90734278]), 'test_recall_macro': array([0.96608135, 0.95703892, 0.9290933 , 0.91597377, 0.90714814]), 'test_f1': array([0.96617647, 0.95754026, 0.93228795, 0.91841155, 0.9093546 ])}]\n",
      "['XGBClassifier', {'fit_time': array([1.28299785, 1.28849816, 1.28949738, 1.29649973, 1.31199884]), 'score_time': array([0.02000475, 0.01650167, 0.02150178, 0.02100015, 0.01950049]), 'test_precision_macro': array([0.96660644, 0.96333783, 0.9295245 , 0.91392866, 0.91943186]), 'test_recall_macro': array([0.96675418, 0.96268486, 0.9250262 , 0.91109854, 0.91541886]), 'test_f1': array([0.96703297, 0.96397695, 0.93006993, 0.91601976, 0.92081289])}]\n",
      "['MultinomialNB', {'fit_time': array([0.01499772, 0.01249862, 0.01350284, 0.01099992, 0.00950217]), 'score_time': array([0.00899839, 0.01650143, 0.01100183, 0.00549722, 0.00549698]), 'test_precision_macro': array([0.87048241, 0.8961095 , 0.83903925, 0.82041785, 0.81765783]), 'test_recall_macro': array([0.85383492, 0.8961095 , 0.83887724, 0.82041785, 0.81771379]), 'test_f1': array([0.83579639, 0.89795918, 0.84263959, 0.82361516, 0.81804734])}]\n",
      "['GaussianNB', {'fit_time': array([0.02299976, 0.02650118, 0.02399731, 0.0285027 , 0.02302313]), 'score_time': array([0.01349974, 0.01149869, 0.01050401, 0.01099992, 0.01147842]), 'test_precision_macro': array([0.93151483, 0.8876069 , 0.85828288, 0.83692396, 0.84080264]), 'test_recall_macro': array([0.92566635, 0.86129143, 0.82683889, 0.80910836, 0.80121198]), 'test_f1': array([0.93129771, 0.88020833, 0.8525641 , 0.83655084, 0.83396226])}]\n",
      "['BernoulliNB', {'fit_time': array([0.02100539, 0.02252221, 0.02200127, 0.01899719, 0.02199984]), 'score_time': array([0.01199627, 0.00798035, 0.00800085, 0.00850129, 0.00799823]), 'test_precision_macro': array([0.9539929 , 0.93702378, 0.887163  , 0.89524839, 0.88509124]), 'test_recall_macro': array([0.95410669, 0.93244695, 0.87541508, 0.88043785, 0.87476549]), 'test_f1': array([0.95467836, 0.93706294, 0.88768606, 0.89336016, 0.88647179])}]\n",
      "['SVC_linear', {'fit_time': array([9.82550359, 9.97250199, 9.51350307, 8.37250352, 8.82249975]), 'score_time': array([0.29249907, 0.22650003, 0.23552084, 0.22049904, 0.21899772]), 'test_precision_macro': array([0.93609816, 0.90697762, 0.87251344, 0.84005492, 0.87001558]), 'test_recall_macro': array([0.92768484, 0.89077405, 0.84175966, 0.82938   , 0.84574749]), 'test_f1': array([0.93406593, 0.90301003, 0.86486486, 0.84594595, 0.86627528])}]\n",
      "Models test finished.\n",
      "Building Dictionary...\n",
      "150\n",
      "[('ect', 35666), ('company', 28711), ('please', 20234), ('ha', 20085), ('spam', 17847), ('wa', 17802), ('hou', 17264), ('would', 15499), ('time', 14803), ('new', 14776), ('price', 14215), ('business', 13526), ('may', 13110), ('information', 13076), ('one', 12298), ('gas', 11919), ('said', 11887), ('market', 11652), ('energy', 11411), ('year', 11365), ('get', 11176), ('http', 11136), ('day', 10835), ('message', 10689), ('need', 10656), ('stock', 10416), ('deal', 9996), ('know', 9682), ('pm', 9676), ('service', 9634), ('also', 9229), ('report', 8988), ('power', 8709), ('security', 8623), ('vince', 8621), ('thanks', 8389), ('week', 8363), ('like', 8254), ('statement', 7960), ('corp', 7950), ('make', 7856), ('number', 7838), ('million', 7755), ('inc', 7395), ('group', 7387), ('could', 7330), ('sent', 7173), ('share', 7157), ('risk', 7129), ('product', 7073), ('trading', 6956), ('investment', 6926), ('money', 6839), ('see', 6759), ('work', 6668), ('system', 6667), ('forward', 6369), ('let', 6339), ('call', 6322), ('want', 6262), ('month', 6258), ('order', 6251), ('contact', 6246), ('de', 6181), ('financial', 6123), ('within', 6090), ('free', 6058), ('next', 6026), ('last', 5968), ('term', 5935), ('go', 5906), ('credit', 5871), ('name', 5839), ('houston', 5828), ('take', 5812), ('offer', 5706), ('change', 5670), ('state', 5631), ('list', 5565), ('date', 5563), ('question', 5546), ('today', 5538), ('use', 5511), ('address', 5502), ('management', 5477), ('meeting', 5456), ('best', 5452), ('news', 5422), ('two', 5380), ('project', 5340), ('billion', 5315), ('account', 5275), ('right', 5255), ('customer', 5154), ('future', 5139), ('based', 5123), ('th', 5092), ('site', 5083), ('office', 5036), ('investor', 5033), ('first', 5009), ('sale', 5005), ('well', 5004), ('people', 4972), ('original', 4958), ('program', 4927), ('transaction', 4895), ('contract', 4887), ('data', 4858), ('dynegy', 4852), ('kaminski', 4809), ('many', 4727), ('click', 4723), ('help', 4717), ('per', 4682), ('software', 4676), ('net', 4665), ('made', 4653), ('back', 4608), ('issue', 4556), ('result', 4548), ('plan', 4481), ('cost', 4452), ('look', 4420), ('way', 4403), ('send', 4397), ('hour', 4396), ('online', 4386), ('rate', 4379), ('looking', 4373), ('available', 4355), ('attached', 4354), ('bank', 4306), ('good', 4276), ('line', 4215), ('interest', 4215), ('following', 4190), ('mr', 4144), ('regard', 4132), ('much', 4100), ('home', 4093), ('research', 4004), ('process', 3974), ('part', 3958), ('john', 3932), ('position', 3925), ('review', 3925), ('fund', 3923), ('schedule', 3921), ('due', 3892)]\n",
      "Train set:\n",
      " Ham:  10588 \n",
      " Spam:  10978 \n",
      "Train_Dev:\n",
      " Ham: 2648 \n",
      " Spam: 2745 \n",
      "Test set:\n",
      " Ham:  3310 \n",
      " Spam:  3431 \n",
      "All set:\n",
      " Ham:  16546 \n",
      " Spam:  17154\n",
      "Feature extraction 'test':\n",
      "Processing model tests...\n",
      "KNeighborsClassifier testing model...\n",
      "MLPClassifier testing model...\n",
      "LogisticRegression testing model...\n",
      "RandomForestClassifier testing model...\n",
      "XGBClassifier testing model...\n",
      "[21:28:54] WARNING: C:/Users/Administrator/workspace/xgboost-win64_release_1.4.0/src/learner.cc:1095: Starting in XGBoost 1.3.0, the default evaluation metric used with the objective 'binary:logistic' was changed from 'error' to 'logloss'. Explicitly set eval_metric if you'd like to restore the old behavior.\n"
     ]
    },
    {
     "name": "stderr",
     "output_type": "stream",
     "text": [
      "The use of label encoder in XGBClassifier is deprecated and will be removed in a future release. To remove this warning, do the following: 1) Pass option use_label_encoder=False when constructing XGBClassifier object; and 2) Encode your labels (y) as integers starting with 0, i.e. 0, 1, 2, ..., [num_class - 1].\n",
      "The use of label encoder in XGBClassifier is deprecated and will be removed in a future release. To remove this warning, do the following: 1) Pass option use_label_encoder=False when constructing XGBClassifier object; and 2) Encode your labels (y) as integers starting with 0, i.e. 0, 1, 2, ..., [num_class - 1].\n"
     ]
    },
    {
     "name": "stdout",
     "output_type": "stream",
     "text": [
      "[21:28:56] WARNING: C:/Users/Administrator/workspace/xgboost-win64_release_1.4.0/src/learner.cc:1095: Starting in XGBoost 1.3.0, the default evaluation metric used with the objective 'binary:logistic' was changed from 'error' to 'logloss'. Explicitly set eval_metric if you'd like to restore the old behavior.\n"
     ]
    },
    {
     "name": "stderr",
     "output_type": "stream",
     "text": [
      "The use of label encoder in XGBClassifier is deprecated and will be removed in a future release. To remove this warning, do the following: 1) Pass option use_label_encoder=False when constructing XGBClassifier object; and 2) Encode your labels (y) as integers starting with 0, i.e. 0, 1, 2, ..., [num_class - 1].\n"
     ]
    },
    {
     "name": "stdout",
     "output_type": "stream",
     "text": [
      "[21:28:57] WARNING: C:/Users/Administrator/workspace/xgboost-win64_release_1.4.0/src/learner.cc:1095: Starting in XGBoost 1.3.0, the default evaluation metric used with the objective 'binary:logistic' was changed from 'error' to 'logloss'. Explicitly set eval_metric if you'd like to restore the old behavior.\n"
     ]
    },
    {
     "name": "stderr",
     "output_type": "stream",
     "text": [
      "The use of label encoder in XGBClassifier is deprecated and will be removed in a future release. To remove this warning, do the following: 1) Pass option use_label_encoder=False when constructing XGBClassifier object; and 2) Encode your labels (y) as integers starting with 0, i.e. 0, 1, 2, ..., [num_class - 1].\n"
     ]
    },
    {
     "name": "stdout",
     "output_type": "stream",
     "text": [
      "[21:28:58] WARNING: C:/Users/Administrator/workspace/xgboost-win64_release_1.4.0/src/learner.cc:1095: Starting in XGBoost 1.3.0, the default evaluation metric used with the objective 'binary:logistic' was changed from 'error' to 'logloss'. Explicitly set eval_metric if you'd like to restore the old behavior.\n"
     ]
    },
    {
     "name": "stderr",
     "output_type": "stream",
     "text": [
      "The use of label encoder in XGBClassifier is deprecated and will be removed in a future release. To remove this warning, do the following: 1) Pass option use_label_encoder=False when constructing XGBClassifier object; and 2) Encode your labels (y) as integers starting with 0, i.e. 0, 1, 2, ..., [num_class - 1].\n"
     ]
    },
    {
     "name": "stdout",
     "output_type": "stream",
     "text": [
      "[21:28:59] WARNING: C:/Users/Administrator/workspace/xgboost-win64_release_1.4.0/src/learner.cc:1095: Starting in XGBoost 1.3.0, the default evaluation metric used with the objective 'binary:logistic' was changed from 'error' to 'logloss'. Explicitly set eval_metric if you'd like to restore the old behavior.\n",
      "MultinomialNB testing model...\n",
      "GaussianNB testing model...\n",
      "BernoulliNB testing model...\n",
      "SVC_linear testing model...\n",
      "['KNeighborsClassifier', {'fit_time': array([0.00550032, 0.00597882, 0.00750351, 0.00750113, 0.008003  ]), 'score_time': array([0.23150206, 0.21600389, 0.22249794, 0.24949932, 0.26599693]), 'test_precision_macro': array([0.83618452, 0.84612531, 0.81942448, 0.7632433 , 0.785552  ]), 'test_recall_macro': array([0.83496484, 0.82976535, 0.80534294, 0.74792571, 0.76789568]), 'test_f1': array([0.84188034, 0.84936961, 0.82689747, 0.7787262 , 0.79712042])}]\n",
      "['MLPClassifier', {'fit_time': array([31.67250037, 25.72799873, 28.92400146, 23.61000061, 32.7135005 ]), 'score_time': array([0.00999951, 0.00599933, 0.00699925, 0.00999951, 0.00999928]), 'test_precision_macro': array([0.9476939 , 0.94136378, 0.90960565, 0.88818607, 0.88199672]), 'test_recall_macro': array([0.9476939 , 0.94149498, 0.90748064, 0.88777492, 0.88204971]), 'test_f1': array([0.94736842, 0.94203962, 0.91205674, 0.89097473, 0.88385683])}]\n",
      "['LogisticRegression', {'fit_time': array([0.07100296, 0.09750342, 0.07650018, 0.09750032, 0.08850145]), 'score_time': array([0.00499535, 0.00649643, 0.00499964, 0.00549936, 0.00500011]), 'test_precision_macro': array([0.93360254, 0.90093834, 0.86400104, 0.84756748, 0.85941642]), 'test_recall_macro': array([0.92628421, 0.88877243, 0.83668405, 0.83841702, 0.84002228]), 'test_f1': array([0.93241379, 0.89986468, 0.85954693, 0.85306122, 0.8595913 ])}]\n",
      "['RandomForestClassifier', {'fit_time': array([0.61949992, 0.64150214, 0.61449957, 0.60049987, 0.6005013 ]), 'score_time': array([0.03950071, 0.02602077, 0.02750134, 0.02950287, 0.02702451]), 'test_precision_macro': array([0.96592358, 0.95693026, 0.93071037, 0.91641482, 0.90734278]), 'test_recall_macro': array([0.96608135, 0.95703892, 0.9290933 , 0.91597377, 0.90714814]), 'test_f1': array([0.96617647, 0.95754026, 0.93228795, 0.91841155, 0.9093546 ])}]\n",
      "['XGBClassifier', {'fit_time': array([1.26900172, 1.36649871, 1.29099727, 1.22849941, 1.78900075]), 'score_time': array([0.02049875, 0.01699996, 0.01850247, 0.01750112, 0.01849985]), 'test_precision_macro': array([0.96660644, 0.96333783, 0.9295245 , 0.91392866, 0.91943186]), 'test_recall_macro': array([0.96675418, 0.96268486, 0.9250262 , 0.91109854, 0.91541886]), 'test_f1': array([0.96703297, 0.96397695, 0.93006993, 0.91601976, 0.92081289])}]\n",
      "['MultinomialNB', {'fit_time': array([0.02050161, 0.01799989, 0.02049994, 0.01249623, 0.01100135]), 'score_time': array([0.01350331, 0.01050019, 0.01049924, 0.00849724, 0.00599957]), 'test_precision_macro': array([0.87048241, 0.8961095 , 0.83903925, 0.82041785, 0.81765783]), 'test_recall_macro': array([0.85383492, 0.8961095 , 0.83887724, 0.82041785, 0.81771379]), 'test_f1': array([0.83579639, 0.89795918, 0.84263959, 0.82361516, 0.81804734])}]\n",
      "['GaussianNB', {'fit_time': array([0.02600193, 0.02699828, 0.03700042, 0.02500081, 0.02550268]), 'score_time': array([0.01350141, 0.01200056, 0.01950097, 0.01249957, 0.01600027]), 'test_precision_macro': array([0.93151483, 0.8876069 , 0.85828288, 0.83692396, 0.84080264]), 'test_recall_macro': array([0.92566635, 0.86129143, 0.82683889, 0.80910836, 0.80121198]), 'test_f1': array([0.93129771, 0.88020833, 0.8525641 , 0.83655084, 0.83396226])}]\n",
      "['BernoulliNB', {'fit_time': array([0.02400088, 0.02250075, 0.0250001 , 0.02249908, 0.02699971]), 'score_time': array([0.00849867, 0.00949883, 0.01000142, 0.01100016, 0.01099992]), 'test_precision_macro': array([0.9539929 , 0.93702378, 0.887163  , 0.89524839, 0.88509124]), 'test_recall_macro': array([0.95410669, 0.93244695, 0.87541508, 0.88043785, 0.87476549]), 'test_f1': array([0.95467836, 0.93706294, 0.88768606, 0.89336016, 0.88647179])}]\n",
      "['SVC_linear', {'fit_time': array([9.32149911, 8.63350129, 8.10699964, 8.7970016 , 8.1014986 ]), 'score_time': array([0.23102021, 0.24299932, 0.21649861, 0.21150088, 0.23250055]), 'test_precision_macro': array([0.93609816, 0.90697762, 0.87251344, 0.84005492, 0.87001558]), 'test_recall_macro': array([0.92768484, 0.89077405, 0.84175966, 0.82938   , 0.84574749]), 'test_f1': array([0.93406593, 0.90301003, 0.86486486, 0.84594595, 0.86627528])}]\n",
      "Models test finished.\n",
      "Building Dictionary...\n",
      "200\n",
      "[('ect', 35666), ('company', 28711), ('please', 20234), ('ha', 20085), ('spam', 17847), ('wa', 17802), ('hou', 17264), ('would', 15499), ('time', 14803), ('new', 14776), ('price', 14215), ('business', 13526), ('may', 13110), ('information', 13076), ('one', 12298), ('gas', 11919), ('said', 11887), ('market', 11652), ('energy', 11411), ('year', 11365), ('get', 11176), ('http', 11136), ('day', 10835), ('message', 10689), ('need', 10656), ('stock', 10416), ('deal', 9996), ('know', 9682), ('pm', 9676), ('service', 9634), ('also', 9229), ('report', 8988), ('power', 8709), ('security', 8623), ('vince', 8621), ('thanks', 8389), ('week', 8363), ('like', 8254), ('statement', 7960), ('corp', 7950), ('make', 7856), ('number', 7838), ('million', 7755), ('inc', 7395), ('group', 7387), ('could', 7330), ('sent', 7173), ('share', 7157), ('risk', 7129), ('product', 7073), ('trading', 6956), ('investment', 6926), ('money', 6839), ('see', 6759), ('work', 6668), ('system', 6667), ('forward', 6369), ('let', 6339), ('call', 6322), ('want', 6262), ('month', 6258), ('order', 6251), ('contact', 6246), ('de', 6181), ('financial', 6123), ('within', 6090), ('free', 6058), ('next', 6026), ('last', 5968), ('term', 5935), ('go', 5906), ('credit', 5871), ('name', 5839), ('houston', 5828), ('take', 5812), ('offer', 5706), ('change', 5670), ('state', 5631), ('list', 5565), ('date', 5563), ('question', 5546), ('today', 5538), ('use', 5511), ('address', 5502), ('management', 5477), ('meeting', 5456), ('best', 5452), ('news', 5422), ('two', 5380), ('project', 5340), ('billion', 5315), ('account', 5275), ('right', 5255), ('customer', 5154), ('future', 5139), ('based', 5123), ('th', 5092), ('site', 5083), ('office', 5036), ('investor', 5033), ('first', 5009), ('sale', 5005), ('well', 5004), ('people', 4972), ('original', 4958), ('program', 4927), ('transaction', 4895), ('contract', 4887), ('data', 4858), ('dynegy', 4852), ('kaminski', 4809), ('many', 4727), ('click', 4723), ('help', 4717), ('per', 4682), ('software', 4676), ('net', 4665), ('made', 4653), ('back', 4608), ('issue', 4556), ('result', 4548), ('plan', 4481), ('cost', 4452), ('look', 4420), ('way', 4403), ('send', 4397), ('hour', 4396), ('online', 4386), ('rate', 4379), ('looking', 4373), ('available', 4355), ('attached', 4354), ('bank', 4306), ('good', 4276), ('line', 4215), ('interest', 4215), ('following', 4190), ('mr', 4144), ('regard', 4132), ('much', 4100), ('home', 4093), ('research', 4004), ('process', 3974), ('part', 3958), ('john', 3932), ('position', 3925), ('review', 3925), ('fund', 3923), ('schedule', 3921), ('due', 3892), ('jones', 3883), ('operation', 3878), ('forwarded', 3858), ('development', 3836), ('note', 3832), ('high', 3827), ('long', 3784), ('asset', 3747), ('phone', 3713), ('provide', 3706), ('since', 3700), ('team', 3700), ('think', 3663), ('say', 3655), ('request', 3643), ('louise', 3643), ('cash', 3630), ('thank', 3599), ('california', 3588), ('find', 3580), ('file', 3580), ('doe', 3556), ('friday', 3523), ('current', 3512), ('value', 3506), ('internet', 3500), ('agreement', 3496), ('option', 3490), ('event', 3488), ('world', 3483), ('website', 3465), ('give', 3457), ('come', 3430), ('dow', 3397), ('buy', 3395), ('monday', 3381), ('trade', 3380), ('start', 3378), ('international', 3347), ('employee', 3330), ('industry', 3326), ('act', 3323), ('total', 3310), ('going', 3307), ('dollar', 3303), ('end', 3285), ('receive', 3285), ('fax', 3277), ('analyst', 3277), ('even', 3265)]\n",
      "Train set:\n",
      " Ham:  10588 \n",
      " Spam:  10978 \n",
      "Train_Dev:\n",
      " Ham: 2648 \n",
      " Spam: 2745 \n",
      "Test set:\n",
      " Ham:  3310 \n",
      " Spam:  3431 \n",
      "All set:\n",
      " Ham:  16546 \n",
      " Spam:  17154\n",
      "Feature extraction 'test':\n",
      "Processing model tests...\n",
      "KNeighborsClassifier testing model...\n",
      "MLPClassifier testing model...\n",
      "LogisticRegression testing model...\n",
      "RandomForestClassifier testing model...\n",
      "XGBClassifier testing model...\n",
      "[21:32:24] WARNING: C:/Users/Administrator/workspace/xgboost-win64_release_1.4.0/src/learner.cc:1095: Starting in XGBoost 1.3.0, the default evaluation metric used with the objective 'binary:logistic' was changed from 'error' to 'logloss'. Explicitly set eval_metric if you'd like to restore the old behavior.\n"
     ]
    },
    {
     "name": "stderr",
     "output_type": "stream",
     "text": [
      "The use of label encoder in XGBClassifier is deprecated and will be removed in a future release. To remove this warning, do the following: 1) Pass option use_label_encoder=False when constructing XGBClassifier object; and 2) Encode your labels (y) as integers starting with 0, i.e. 0, 1, 2, ..., [num_class - 1].\n",
      "The use of label encoder in XGBClassifier is deprecated and will be removed in a future release. To remove this warning, do the following: 1) Pass option use_label_encoder=False when constructing XGBClassifier object; and 2) Encode your labels (y) as integers starting with 0, i.e. 0, 1, 2, ..., [num_class - 1].\n"
     ]
    },
    {
     "name": "stdout",
     "output_type": "stream",
     "text": [
      "[21:32:25] WARNING: C:/Users/Administrator/workspace/xgboost-win64_release_1.4.0/src/learner.cc:1095: Starting in XGBoost 1.3.0, the default evaluation metric used with the objective 'binary:logistic' was changed from 'error' to 'logloss'. Explicitly set eval_metric if you'd like to restore the old behavior.\n"
     ]
    },
    {
     "name": "stderr",
     "output_type": "stream",
     "text": [
      "The use of label encoder in XGBClassifier is deprecated and will be removed in a future release. To remove this warning, do the following: 1) Pass option use_label_encoder=False when constructing XGBClassifier object; and 2) Encode your labels (y) as integers starting with 0, i.e. 0, 1, 2, ..., [num_class - 1].\n"
     ]
    },
    {
     "name": "stdout",
     "output_type": "stream",
     "text": [
      "[21:32:27] WARNING: C:/Users/Administrator/workspace/xgboost-win64_release_1.4.0/src/learner.cc:1095: Starting in XGBoost 1.3.0, the default evaluation metric used with the objective 'binary:logistic' was changed from 'error' to 'logloss'. Explicitly set eval_metric if you'd like to restore the old behavior.\n"
     ]
    },
    {
     "name": "stderr",
     "output_type": "stream",
     "text": [
      "The use of label encoder in XGBClassifier is deprecated and will be removed in a future release. To remove this warning, do the following: 1) Pass option use_label_encoder=False when constructing XGBClassifier object; and 2) Encode your labels (y) as integers starting with 0, i.e. 0, 1, 2, ..., [num_class - 1].\n"
     ]
    },
    {
     "name": "stdout",
     "output_type": "stream",
     "text": [
      "[21:32:28] WARNING: C:/Users/Administrator/workspace/xgboost-win64_release_1.4.0/src/learner.cc:1095: Starting in XGBoost 1.3.0, the default evaluation metric used with the objective 'binary:logistic' was changed from 'error' to 'logloss'. Explicitly set eval_metric if you'd like to restore the old behavior.\n"
     ]
    },
    {
     "name": "stderr",
     "output_type": "stream",
     "text": [
      "The use of label encoder in XGBClassifier is deprecated and will be removed in a future release. To remove this warning, do the following: 1) Pass option use_label_encoder=False when constructing XGBClassifier object; and 2) Encode your labels (y) as integers starting with 0, i.e. 0, 1, 2, ..., [num_class - 1].\n"
     ]
    },
    {
     "name": "stdout",
     "output_type": "stream",
     "text": [
      "[21:32:29] WARNING: C:/Users/Administrator/workspace/xgboost-win64_release_1.4.0/src/learner.cc:1095: Starting in XGBoost 1.3.0, the default evaluation metric used with the objective 'binary:logistic' was changed from 'error' to 'logloss'. Explicitly set eval_metric if you'd like to restore the old behavior.\n",
      "MultinomialNB testing model...\n",
      "GaussianNB testing model...\n",
      "BernoulliNB testing model...\n",
      "SVC_linear testing model...\n",
      "['KNeighborsClassifier', {'fit_time': array([0.00949645, 0.00750303, 0.00700092, 0.0074985 , 0.00600076]), 'score_time': array([0.27849817, 0.23550081, 0.22649813, 0.23200107, 0.23700047]), 'test_precision_macro': array([0.83618452, 0.84612531, 0.81942448, 0.7632433 , 0.785552  ]), 'test_recall_macro': array([0.83496484, 0.82976535, 0.80534294, 0.74792571, 0.76789568]), 'test_f1': array([0.84188034, 0.84936961, 0.82689747, 0.7787262 , 0.79712042])}]\n",
      "['MLPClassifier', {'fit_time': array([18.18650079, 42.91750097, 24.95550609, 30.0874989 , 16.99850154]), 'score_time': array([0.00650001, 0.00599957, 0.01149607, 0.00750113, 0.00599885]), 'test_precision_macro': array([0.94156841, 0.94365887, 0.92093035, 0.87359644, 0.89084728]), 'test_recall_macro': array([0.94167909, 0.94354945, 0.91690301, 0.86933094, 0.88985581]), 'test_f1': array([0.94169742, 0.94476744, 0.92221444, 0.87787858, 0.89398281])}]\n",
      "['LogisticRegression', {'fit_time': array([0.06850147, 0.08500242, 0.07650256, 0.08599973, 0.08150387]), 'score_time': array([0.00499725, 0.00649524, 0.00550079, 0.00549912, 0.00499606]), 'test_precision_macro': array([0.93360254, 0.90093834, 0.86400104, 0.84756748, 0.85941642]), 'test_recall_macro': array([0.92628421, 0.88877243, 0.83668405, 0.83841702, 0.84002228]), 'test_f1': array([0.93241379, 0.89986468, 0.85954693, 0.85306122, 0.8595913 ])}]\n",
      "['RandomForestClassifier', {'fit_time': array([0.67699742, 0.63450098, 0.64899993, 0.60701919, 0.64749932]), 'score_time': array([0.02552152, 0.02452064, 0.02599955, 0.02797771, 0.02549696]), 'test_precision_macro': array([0.96592358, 0.95693026, 0.93071037, 0.91641482, 0.90734278]), 'test_recall_macro': array([0.96608135, 0.95703892, 0.9290933 , 0.91597377, 0.90714814]), 'test_f1': array([0.96617647, 0.95754026, 0.93228795, 0.91841155, 0.9093546 ])}]\n",
      "['XGBClassifier', {'fit_time': array([1.24000001, 1.30350161, 1.13749743, 1.15750074, 1.32649994]), 'score_time': array([0.01750159, 0.01749825, 0.01900315, 0.01800156, 0.0170002 ]), 'test_precision_macro': array([0.96660644, 0.96333783, 0.9295245 , 0.91392866, 0.91943186]), 'test_recall_macro': array([0.96675418, 0.96268486, 0.9250262 , 0.91109854, 0.91541886]), 'test_f1': array([0.96703297, 0.96397695, 0.93006993, 0.91601976, 0.92081289])}]\n",
      "['MultinomialNB', {'fit_time': array([0.01249743, 0.01400018, 0.01249862, 0.01399946, 0.00850177]), 'score_time': array([0.00950027, 0.00999975, 0.00850129, 0.00799847, 0.00499892]), 'test_precision_macro': array([0.87048241, 0.8961095 , 0.83903925, 0.82041785, 0.81765783]), 'test_recall_macro': array([0.85383492, 0.8961095 , 0.83887724, 0.82041785, 0.81771379]), 'test_f1': array([0.83579639, 0.89795918, 0.84263959, 0.82361516, 0.81804734])}]\n",
      "['GaussianNB', {'fit_time': array([0.02250004, 0.0225029 , 0.02700019, 0.0260036 , 0.02900124]), 'score_time': array([0.010499  , 0.0130012 , 0.01149821, 0.01199722, 0.01299739]), 'test_precision_macro': array([0.93151483, 0.8876069 , 0.85828288, 0.83692396, 0.84080264]), 'test_recall_macro': array([0.92566635, 0.86129143, 0.82683889, 0.80910836, 0.80121198]), 'test_f1': array([0.93129771, 0.88020833, 0.8525641 , 0.83655084, 0.83396226])}]\n",
      "['BernoulliNB', {'fit_time': array([0.02549696, 0.02050161, 0.02149868, 0.02050114, 0.02200055]), 'score_time': array([0.00850105, 0.00799799, 0.00800133, 0.00800085, 0.00899863]), 'test_precision_macro': array([0.9539929 , 0.93702378, 0.887163  , 0.89524839, 0.88509124]), 'test_recall_macro': array([0.95410669, 0.93244695, 0.87541508, 0.88043785, 0.87476549]), 'test_f1': array([0.95467836, 0.93706294, 0.88768606, 0.89336016, 0.88647179])}]\n",
      "['SVC_linear', {'fit_time': array([ 9.45950484, 10.81547284,  8.6360023 ,  9.37899804,  8.71499991]), 'score_time': array([0.22901654, 0.24950075, 0.223001  , 0.21600342, 0.20900035]), 'test_precision_macro': array([0.93609816, 0.90697762, 0.87251344, 0.84005492, 0.87001558]), 'test_recall_macro': array([0.92768484, 0.89077405, 0.84175966, 0.82938   , 0.84574749]), 'test_f1': array([0.93406593, 0.90301003, 0.86486486, 0.84594595, 0.86627528])}]\n",
      "Models test finished.\n"
     ]
    }
   ],
   "source": [
    "def feature_size_test():\n",
    "    feature_sizes = [10, 25, 50, 75, 100, 125, 150, 200]\n",
    "    df_results = []\n",
    "\n",
    "    for size in feature_sizes:\n",
    "        if len(scores) > 0:\n",
    "            scores.clear()\n",
    "\n",
    "        dictionary = dictionary_build((ham_collection + spam_collection), enable_preprocess_widget.value)\n",
    "        dictionary = dictionary.most_common(size)\n",
    "        formatted_dictionary = []\n",
    "        for item in dictionary:\n",
    "            formatted_dictionary.append(item[0])\n",
    "\n",
    "        print(size)\n",
    "        print(dictionary)\n",
    "\n",
    "        train_set, test_set, train_labels, test_labels, train_dev_set, train_dev_labels, all_set, all_labels = calculate(\n",
    "            ham_collection, spam_collection)\n",
    "\n",
    "        test_features = extract_features(test_set, \"test\")\n",
    "\n",
    "        test_features_scaled = MinMaxScaler().fit_transform(test_features, test_labels)\n",
    "\n",
    "        df_results.append(models_report(test_features_scaled, test_labels, False))\n",
    "\n",
    "    pd.DataFrame().append([df_results[0],\n",
    "                           df_results[1],\n",
    "                           df_results[2],\n",
    "                           df_results[3],\n",
    "                           df_results[4],\n",
    "                           df_results[5],\n",
    "                           df_results[6],\n",
    "                           df_results[7]]).to_csv('../results/scores/feature_selection_test_report.csv')\n",
    "\n",
    "\n",
    "feature_size_test()"
   ],
   "metadata": {
    "collapsed": false,
    "pycharm": {
     "name": "#%%\n"
    }
   }
  },
  {
   "cell_type": "markdown",
   "source": [
    "## Hyperparameter Optimisation Tests\n",
    "The following cells below contain the tests used to optimise some models used."
   ],
   "metadata": {
    "collapsed": false,
    "pycharm": {
     "name": "#%% md\n"
    }
   }
  },
  {
   "cell_type": "markdown",
   "source": [
    "### K-Nearest Neighbours"
   ],
   "metadata": {
    "collapsed": false,
    "pycharm": {
     "name": "#%% md\n"
    }
   }
  },
  {
   "cell_type": "code",
   "execution_count": null,
   "outputs": [],
   "source": [
    "def kn_test(X, y):\n",
    "    if len(scores) > 0:\n",
    "        scores.clear()\n",
    "\n",
    "    algorithm_val = ['ball_tree', 'kd_tree', 'brute']\n",
    "    model_scores = []\n",
    "    processed_scores = []\n",
    "    for a in range(len(algorithm_val)):\n",
    "        model = KNeighborsClassifier(algorithm=algorithm_val[a])\n",
    "        model_name = type(model).__name__ + '_' + model.algorithm\n",
    "        model_scores.append([model_name, cross_validate(model, X, y, cv=cv, scoring=scoring, return_train_score=False)])\n",
    "\n",
    "    for i, d in enumerate(model_scores):\n",
    "        print(d)\n",
    "        for b in range(5):\n",
    "            processed_score = [d[0]]\n",
    "            for c, e in enumerate(scoring_parse_labels):\n",
    "                item = d[1][e][b]\n",
    "                item = item.astype(np.float)\n",
    "                processed_score.append(item)\n",
    "            processed_scores.append(processed_score)\n",
    "\n",
    "    df = pd.DataFrame(processed_scores, columns=report_labels)\n",
    "    df.to_csv('../results/scores/k_neighbour_classifier_test_score.csv')\n",
    "\n",
    "\n",
    "kn_test(selected_features, selected_labels)"
   ],
   "metadata": {
    "collapsed": false,
    "pycharm": {
     "name": "#%%\n"
    }
   }
  },
  {
   "cell_type": "markdown",
   "source": [
    "### Multilayer Perceptron Neural Network"
   ],
   "metadata": {
    "collapsed": false
   }
  },
  {
   "cell_type": "code",
   "execution_count": null,
   "outputs": [],
   "source": [
    "# Multi-layer perceptron neural network test.\n",
    "def mpnn_test(X, y):\n",
    "    feature_sizes = [10, 25, 50, 75, 100, 125, 150, 200]\n",
    "    nu_val = [25, 50, 75, 100, 200]\n",
    "    h_layers = [1, 2, 3]\n",
    "    iter_val = [2000, 5000, 10000]\n",
    "    i = 1\n",
    "\n",
    "    for a in range(len(nu_val)):\n",
    "        for b in range(len(h_layers)):\n",
    "            if b > 0:\n",
    "                if b == 1:\n",
    "                    nu_layer_val = nu_val[a], nu_val[a]\n",
    "                elif b == 2:\n",
    "                    nu_layer_val = nu_val[a], nu_val[a], nu_val[a]\n",
    "            else:\n",
    "                nu_layer_val = nu_val[a]\n",
    "            for c in range(len(iter_val)):\n",
    "                print('{} of total {}'.format(i, len(feature_sizes) * len(nu_val) * len(h_layers) * len(iter_val)))\n",
    "                model = MLPClassifier(hidden_layer_sizes=(nu_layer_val), solver='lbfgs', max_iter=iter_val[c])\n",
    "                scores.append(['{}_{}_{}_{}'.format(determine_model_name(model), nu_val[a], h_layers[b], iter_val[c]),\n",
    "                               cross_validate(model, X, y, cv=cv, scoring=scoring, return_train_score=False)])\n",
    "                i += 1\n",
    "\n",
    "    handle_scores_to_csv('../results/scores/mpnn_parameter_test_scores.csv', True)\n",
    "\n",
    "\n",
    "mpnn_test(selected_features, selected_labels)"
   ],
   "metadata": {
    "collapsed": false,
    "pycharm": {
     "name": "#%%\n"
    }
   }
  },
  {
   "cell_type": "markdown",
   "source": [
    "### Support Vector Machine"
   ],
   "metadata": {
    "collapsed": false
   }
  },
  {
   "cell_type": "code",
   "execution_count": null,
   "outputs": [],
   "source": [
    "def svm_tests(X, y):\n",
    "    if len(scores) > 0:\n",
    "        scores.clear()\n",
    "    kernel_val = ['linear', 'poly', 'rbf', 'sigmoid']\n",
    "    model_scores = []\n",
    "    processed_scores = []\n",
    "    for a in range(len(kernel_val)):\n",
    "        model = svm.SVC(C=1.0, kernel=kernel_val[a], degree=3, gamma='auto', coef0=0.0, shrinking=True,\n",
    "                        probability=True, tol=0.001, cache_size=10000, class_weight=None, verbose=False,\n",
    "                        max_iter=max_iterations, decision_function_shape='ovr', random_state=None)\n",
    "        model_name = type(model).__name__ + '_' + model.kernel\n",
    "        model_scores.append([model_name, cross_validate(model, X, y, cv=cv, scoring=scoring, return_train_score=False)])\n",
    "\n",
    "    for i, d in enumerate(model_scores):\n",
    "        print(d)\n",
    "        for b in range(5):\n",
    "            processed_score = [d[0]]\n",
    "            for c, e in enumerate(scoring_parse_labels):\n",
    "                item = d[1][e][b]\n",
    "                item = item.astype(np.float)\n",
    "                processed_score.append(item)\n",
    "            processed_scores.append(processed_score)\n",
    "\n",
    "    df = pd.DataFrame(processed_scores, columns=report_labels)\n",
    "    df.to_csv('../results/scores/svm_kernel_test_scores.csv')\n",
    "\n",
    "\n",
    "svm_tests(selected_features, selected_labels)"
   ],
   "metadata": {
    "collapsed": false,
    "pycharm": {
     "name": "#%%\n"
    }
   }
  },
  {
   "cell_type": "markdown",
   "source": [
    "## Dataset Preprocessing Comparison Test\n",
    "The following test creates the comparison plot between preprocessed vs raw datsets."
   ],
   "metadata": {
    "collapsed": false,
    "pycharm": {
     "name": "#%% md\n"
    }
   }
  },
  {
   "cell_type": "code",
   "execution_count": null,
   "outputs": [],
   "source": [
    "def plot_test(processed_score, non_processed_score, model_labels):\n",
    "    n_groups = len(model_labels)\n",
    "\n",
    "    # create plot\n",
    "    fig, ax = plt.subplots()\n",
    "    index = np.arange(n_groups)\n",
    "    bar_width = 0.35\n",
    "    opacity = 0.8\n",
    "\n",
    "    rects1 = plt.bar(index, processed_score, bar_width,\n",
    "                     alpha=opacity,\n",
    "                     color='m',\n",
    "                     label='Processed')\n",
    "\n",
    "    rects2 = plt.bar(index + bar_width, non_processed_score, bar_width,\n",
    "                     alpha=opacity,\n",
    "                     color='b',\n",
    "                     label='Raw')\n",
    "\n",
    "    plt.xlabel('Models')\n",
    "    plt.ylabel('F1 Score')\n",
    "    plt.title('Score difference between preprocessed vs raw dataset')\n",
    "    plt.xticks(index + bar_width, model_labels)\n",
    "    plt.legend()\n",
    "\n",
    "    plt.tight_layout()\n",
    "    plt.savefig('../results/preprocessing_score_difference.pdf', dpi=160)\n",
    "    plt.show()\n",
    "\n",
    "\n",
    "remove_common_artifacts = True\n",
    "ham_collection_preprocessed, spam_collection_preprocessed = enron_selector(True, False)\n",
    "remove_common_artifacts = False\n",
    "ham_collection_no_processing, spam_collection_no_processing = enron_selector(False, False)\n",
    "remove_common_artifacts = exclude_common_artifacts.value\n",
    "\n",
    "ham_list = [ham_collection_preprocessed, ham_collection_no_processing]\n",
    "spam_list = [spam_collection_preprocessed, spam_collection_no_processing]\n",
    "dfs = []\n",
    "\n",
    "for i in range(len(ham_list)):\n",
    "    scores = []\n",
    "    dictionary = dictionary_build((ham_list[i] + spam_list[i]), enable_preprocess_widget.value)\n",
    "    dictionary = dictionary.most_common(feature_size)\n",
    "    formatted_dictionary = []\n",
    "    for item in dictionary:\n",
    "        formatted_dictionary.append(item[0])\n",
    "\n",
    "    print(dictionary)\n",
    "\n",
    "    train_set, test_set, train_labels, test_labels, train_dev_set, train_dev_labels, all_set, all_labels = calculate(\n",
    "        ham_list[i], spam_list[i])\n",
    "\n",
    "    test_features = extract_features(test_set, \"test\")\n",
    "    test_features_scaled = MinMaxScaler().fit_transform(test_features, test_labels)\n",
    "\n",
    "    print('Finished feature extraction')\n",
    "\n",
    "    dfs.append(models_report(test_features_scaled, test_labels))\n",
    "\n",
    "dfs[0]['test_f1'].to_csv('../results/scores/comparison_processed_results.csv')\n",
    "dfs[1]['test_f1'].to_csv('../results/scores/comparison_raw_results.csv')\n",
    "\n",
    "# Get only top 4 models for plot.\n",
    "model_select = [1, 4, 7, 8]\n",
    "selected_processed_results = []\n",
    "selected_non_processed_results = []\n",
    "selected_model_names = []\n",
    "\n",
    "for i, num in enumerate(model_select):\n",
    "    if num == 1:\n",
    "        selected_model_names.append('MPNN')\n",
    "    elif num == 4:\n",
    "        selected_model_names.append('XGBOOST')\n",
    "    elif num == 7:\n",
    "        selected_model_names.append('BernoulliNB')\n",
    "    else:\n",
    "        selected_model_names.append('LinearSVC')\n",
    "\n",
    "    selected_processed_results.append(float(dfs[0]['test_f1'].iloc[num]))\n",
    "    selected_non_processed_results.append(float(dfs[1]['test_f1'].iloc[num]))\n",
    "\n",
    "plot_test(selected_processed_results, selected_non_processed_results, selected_model_names)"
   ],
   "metadata": {
    "collapsed": false,
    "pycharm": {
     "name": "#%%\n"
    }
   }
  }
 ],
 "metadata": {
  "kernelspec": {
   "display_name": "Python 3",
   "language": "python",
   "name": "python3"
  },
  "language_info": {
   "codemirror_mode": {
    "name": "ipython",
    "version": 2
   },
   "file_extension": ".py",
   "mimetype": "text/x-python",
   "name": "python",
   "nbconvert_exporter": "python",
   "pygments_lexer": "ipython2",
   "version": "2.7.6"
  }
 },
 "nbformat": 4,
 "nbformat_minor": 0
}